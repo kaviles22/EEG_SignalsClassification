{
 "metadata": {
  "language_info": {
   "codemirror_mode": {
    "name": "ipython",
    "version": 3
   },
   "file_extension": ".py",
   "mimetype": "text/x-python",
   "name": "python",
   "nbconvert_exporter": "python",
   "pygments_lexer": "ipython3",
   "version": "3.9.1"
  },
  "orig_nbformat": 2,
  "kernelspec": {
   "name": "python3",
   "display_name": "Python 3.9.1 64-bit"
  },
  "interpreter": {
   "hash": "7ec4eee48a1b90125fedd080afd04f965bb6f28dbf2886da6c5cfcc343d0a26d"
  }
 },
 "nbformat": 4,
 "nbformat_minor": 2,
 "cells": [
  {
   "source": [
    "# Outliers\n",
    "The following notebook aims to find and replace the outliers from a group of data *(structured specified below)*. <br> The outliers were found by stablishing a boundary based on the first and third quartile of each file's data. Outliers were replaced with the closest boundary, for example: <br><br>\n",
    "If the boundaries were (2,10) and the value was **-1**, it will be replaced with 2 (which is the closest boundary)."
   ],
   "cell_type": "markdown",
   "metadata": {}
  },
  {
   "cell_type": "code",
   "execution_count": 1,
   "metadata": {},
   "outputs": [],
   "source": [
    "import pandas as pd\n",
    "import numpy as np\n",
    "import math"
   ]
  },
  {
   "source": [
    "## Folder structure\n",
    "Both source and destination paths will and have to be structured in the following way:\n",
    "- Folder path\n",
    "    - 7 Hz\n",
    "    - 9 Hz\n",
    "    - 11 Hz\n",
    "    - 13 Hz\n",
    "    - Baseline"
   ],
   "cell_type": "markdown",
   "metadata": {}
  },
  {
   "source": [
    "## File paths\n",
    "Both source and destination path have to be specified. <br>\n",
    "- ***Source path*** (SRC_PATH) contains the files from which outliers will be replaced. \n",
    "- ***Destination path*** (DEST_PATH) will contain the files with the replaced outliers. "
   ],
   "cell_type": "markdown",
   "metadata": {}
  },
  {
   "cell_type": "code",
   "execution_count": 3,
   "metadata": {},
   "outputs": [],
   "source": [
    "SRC_PATH = \"C:/EEG_Embedded_Systems/DatosProcesados_V2/RawData\"\n",
    "DEST_PATH = \"C:/EEG_Embedded_Systems/DatosProcesados_V2/RawData_Outliers\""
   ]
  },
  {
   "cell_type": "code",
   "execution_count": 4,
   "metadata": {},
   "outputs": [],
   "source": [
    "def detect_outlier(data):\n",
    "    q1, q3 = np.percentile(sorted(data), [25, 75])\n",
    "    iqr = q3 - q1\n",
    "    lower_bound = q1 - (1.5 * iqr)\n",
    "    upper_bound = q3 + (1.5 * iqr)\n",
    "    return lower_bound, upper_bound"
   ]
  },
  {
   "cell_type": "code",
   "execution_count": 5,
   "metadata": {},
   "outputs": [],
   "source": [
    "def labeling(sub_folder, num_rows):\n",
    "    if(sub_folder == '7Hz'):\n",
    "        label = 1\n",
    "    if(sub_folder == '9Hz'):\n",
    "        label = 2\n",
    "    if(sub_folder == '11Hz'):\n",
    "        label = 3\n",
    "    if(sub_folder == '13Hz'):\n",
    "        label = 4\n",
    "    if(sub_folder == 'Baseline'):\n",
    "        label = 5\n",
    "    labels = pd.DataFrame(np.full(shape=(num_rows,1), fill_value=label, dtype=np.int))\n",
    "    return labels"
   ]
  },
  {
   "cell_type": "code",
   "execution_count": 6,
   "metadata": {},
   "outputs": [
    {
     "output_type": "stream",
     "name": "stdout",
     "text": [
      "11Hz\n",
      "13Hz\n",
      "7Hz\n",
      "9Hz\n",
      "Baseline\n"
     ]
    }
   ],
   "source": [
    "for folder in os.listdir(SRC_PATH):\n",
    "    print(folder)\n",
    "    src_folder = os.path.join(SRC_PATH, folder)\n",
    "    files = [e for e in os.listdir(src_folder) if e.endswith('.csv')]\n",
    "    for index, file_ in enumerate(files):\n",
    "        src_file = os.path.join(src_folder, file_)\n",
    "        df = pd.read_csv(src_file)\n",
    "        df_new = pd.DataFrame()\n",
    "        for electrode in ['EEG.O1', 'EEG.O2']:\n",
    "            data = np.array(df[electrode])\n",
    "            lower_bound, upper_bound = detect_outlier(data)\n",
    "            df_new[electrode] = df[electrode].clip(lower=lower_bound, upper=upper_bound)\n",
    "        df_new['MarkerValueInt'] = labeling(folder, df.shape[0])\n",
    "        df_new.to_csv(DEST_PATH + '/' + carpeta + '/muestra' + str(index) + '.csv', index=False)        "
   ]
  }
 ]
}
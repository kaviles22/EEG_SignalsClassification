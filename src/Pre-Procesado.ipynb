{
 "cells": [
  {
   "cell_type": "markdown",
   "source": [
    "# Metodologia tratamiendo de archivos"
   ],
   "metadata": {}
  },
  {
   "cell_type": "markdown",
   "source": [
    "## Librerias"
   ],
   "metadata": {}
  },
  {
   "cell_type": "code",
   "execution_count": 1,
   "source": [
    "import pandas as pd\r\n",
    "import os \r\n",
    "%matplotlib widget"
   ],
   "outputs": [],
   "metadata": {}
  },
  {
   "cell_type": "markdown",
   "source": [
    "## Declaracion de Constantes\n",
    "Lo unico que se debe cambiar es `RUTA_DATOS_BRUTOS` y `RUTA_DATOS_PROCESADOS` con la respectiva ruta o path de la carpetas que contienen los csv, normalmente en los jupyters notebooks se usan rutas relativas a la ruta donde esta el cuaderno, para saber la ruta de tu cuaderno puedes poner en una de las celdas `!pwd`.\n",
    "\n",
    "> 💥 **IMPORTANTE:** En la carpeta de datos procesados debes tener la siguiente estructura\n",
    "\n",
    "![arbol de directorio de la carpeta datos procesados](../static/arbol.png)\n"
   ],
   "metadata": {}
  },
  {
   "cell_type": "code",
   "execution_count": 2,
   "source": [
    "ETIQUETAS = ['Rojo', 'Azul', 'Verde', 'Morado', 'Baseline']\r\n",
    "CONTADORES = [0, 0, 0, 0, 0]\r\n",
    "RUTA_DATOS_BRUTOS ='../DatosBrutos/Frecuencia'\r\n",
    "RUTA_DATOS_PROCESADOS = '../DatosProcesados/Frecuencia'"
   ],
   "outputs": [],
   "metadata": {}
  },
  {
   "cell_type": "markdown",
   "source": [
    "## Declaracion de Funciones"
   ],
   "metadata": {}
  },
  {
   "cell_type": "code",
   "execution_count": 3,
   "source": [
    "def etiquetado(ruta_origen, ruta_destino):\r\n",
    "    \r\n",
    "    df= pd.read_csv(ruta_origen)\r\n",
    "    senales = df[df.columns[9:11]]\r\n",
    "    etiqueta = df[df.columns[21:22]]\r\n",
    "    datos = pd.concat([senales, etiqueta], axis=1)\r\n",
    "    c = 6\r\n",
    "\r\n",
    "    for e in range(len(datos.index)):\r\n",
    "\r\n",
    "        if str(datos['MarkerValueInt'][e]) == 'nan':\r\n",
    "            datos['MarkerValueInt'][e] = c\r\n",
    "        else:\r\n",
    "            c = datos['MarkerValueInt'][e]\r\n",
    "\r\n",
    "    datos[datos['MarkerValueInt'] != 6].to_csv(ruta_destino)\r\n",
    "\r\n",
    "def division_archivos(ruta_origen):\r\n",
    "    \r\n",
    "    df = pd.read_csv(ruta_origen)\r\n",
    "    df = df.drop(['Unnamed: 0'], axis =1)\r\n",
    "    c = 5\r\n",
    "    inicio = 0\r\n",
    "    num_archivos = 0\r\n",
    "\r\n",
    "    for e in range(len(df.index)):\r\n",
    "\r\n",
    "        if int(df['MarkerValueInt'][e]) != c:\r\n",
    "            archivo = df.iloc[inicio:e-1, :]\r\n",
    "            archivo.to_csv(f'{RUTA_DATOS_PROCESADOS}/{ETIQUETAS[c - 1]}/muestra{CONTADORES[c -1]}.csv', index = False)\r\n",
    "            CONTADORES[c-1] += 1\r\n",
    "            inicio = e\r\n",
    "            c = int(df['MarkerValueInt'][e]) \r\n",
    "            num_archivos +=1\r\n",
    "\r\n",
    "    return num_archivos\r\n",
    "    "
   ],
   "outputs": [],
   "metadata": {}
  },
  {
   "cell_type": "markdown",
   "source": [
    "## Etiquetado "
   ],
   "metadata": {}
  },
  {
   "cell_type": "code",
   "execution_count": 4,
   "source": [
    "archivos = [e for e in os.listdir(RUTA_DATOS_BRUTOS) if e.endswith('.csv')]\r\n",
    "\r\n",
    "for indice, archivo in enumerate(archivos):\r\n",
    "    ruta_origen = os.path.join(RUTA_DATOS_BRUTOS, archivo)\r\n",
    "    ruta_destino = os.path.join(RUTA_DATOS_PROCESADOS, f'paciente{indice}.csv')\r\n",
    "    etiquetado(ruta_origen, ruta_destino)"
   ],
   "outputs": [],
   "metadata": {}
  },
  {
   "cell_type": "markdown",
   "source": [
    "## Division en archivos"
   ],
   "metadata": {}
  },
  {
   "cell_type": "code",
   "execution_count": 5,
   "source": [
    "archivos = [e for e in os.listdir(RUTA_DATOS_PROCESADOS) if e.endswith('.csv')]\r\n",
    "\r\n",
    "for indice, archivo in enumerate(archivos):\r\n",
    "    ruta_origen = os.path.join(RUTA_DATOS_PROCESADOS, archivo)\r\n",
    "    num_archivos = division_archivos(ruta_origen)\r\n",
    "    print(f'Se crearon {num_archivos} archivos .csv nuevos para el paciente {indice}')"
   ],
   "outputs": [
    {
     "output_type": "stream",
     "name": "stdout",
     "text": [
      "Se crearon 199 archivos .csv nuevos para el paciente 0\n",
      "Se crearon 199 archivos .csv nuevos para el paciente 1\n",
      "Se crearon 199 archivos .csv nuevos para el paciente 2\n",
      "Se crearon 199 archivos .csv nuevos para el paciente 3\n",
      "Se crearon 199 archivos .csv nuevos para el paciente 4\n",
      "Se crearon 199 archivos .csv nuevos para el paciente 5\n",
      "Se crearon 199 archivos .csv nuevos para el paciente 6\n",
      "Se crearon 199 archivos .csv nuevos para el paciente 7\n",
      "Se crearon 199 archivos .csv nuevos para el paciente 8\n"
     ]
    }
   ],
   "metadata": {}
  },
  {
   "cell_type": "code",
   "execution_count": null,
   "source": [
    "etiquetado('../DatosProcesados/Frecuencia/Filtered_Azul.csv', )"
   ],
   "outputs": [],
   "metadata": {}
  }
 ],
 "metadata": {
  "kernelspec": {
   "display_name": "Python 3",
   "language": "python",
   "name": "python3"
  },
  "language_info": {
   "codemirror_mode": {
    "name": "ipython",
    "version": 3
   },
   "file_extension": ".py",
   "mimetype": "text/x-python",
   "name": "python",
   "nbconvert_exporter": "python",
   "pygments_lexer": "ipython3",
   "version": "3.9.1"
  }
 },
 "nbformat": 4,
 "nbformat_minor": 4
}
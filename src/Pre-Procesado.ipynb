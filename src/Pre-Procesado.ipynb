{
 "cells": [
  {
   "cell_type": "markdown",
   "metadata": {},
   "source": [
    "# Metodologia tratamiendo de archivos (Mister Asanza)"
   ]
  },
  {
   "cell_type": "markdown",
   "metadata": {},
   "source": [
    "## Librerias"
   ]
  },
  {
   "cell_type": "code",
   "execution_count": 1,
   "metadata": {},
   "outputs": [],
   "source": [
    "import pandas as pd\n",
    "import os \n",
    "%matplotlib widget"
   ]
  },
  {
   "cell_type": "markdown",
   "metadata": {},
   "source": [
    "## Declaracion de Constantes\n",
    "Lo unico que se debe cambiar es `RUTA_DATOS_BRUTOS` y `RUTA_DATOS_PROCESADOS` con la respectiva ruta o path de la carpetas que contienen los csv, normalmente en los jupyters notebooks se usan rutas relativas a la ruta donde esta el cuaderno, para saber la ruta de tu cuaderno puedes poner en una de las celdas `!pwd`.\n",
    "\n",
    "> 💥 **IMPORTANTE:** En la carpeta de datos procesados debes tener la siguiente estructura\n",
    "\n",
    "![arbol de directorio de la carpeta datos procesados](../static/arbol.png)\n"
   ]
  },
  {
   "cell_type": "code",
   "execution_count": 2,
   "metadata": {},
   "outputs": [],
   "source": [
    "ETIQUETAS = ['Rojo', 'Azul', 'Verde', 'Morado', 'Baseline']\n",
    "CONTADORES = [0, 0, 0, 0, 0]\n",
    "RUTA_DATOS_BRUTOS ='../DatosBrutos/Frecuencia'\n",
    "RUTA_DATOS_PROCESADOS = '../DatosProcesados/Frecuencia'"
   ]
  },
  {
   "cell_type": "markdown",
   "metadata": {},
   "source": [
    "## Declaracion de Funciones"
   ]
  },
  {
   "cell_type": "code",
   "execution_count": 3,
   "metadata": {},
   "outputs": [],
   "source": [
    "def etiquetado(ruta_origen, ruta_destino):\n",
    "    \n",
    "    df= pd.read_csv(ruta_origen)\n",
    "    senales = df[df.columns[9:11]]\n",
    "    etiqueta = df[df.columns[21:22]]\n",
    "    datos = pd.concat([senales, etiqueta], axis=1)\n",
    "    c = 6\n",
    "\n",
    "    for e in range(len(datos.index)):\n",
    "\n",
    "        if str(datos['MarkerValueInt'][e]) == 'nan':\n",
    "            datos['MarkerValueInt'][e] = c\n",
    "        else:\n",
    "            c = datos['MarkerValueInt'][e]\n",
    "\n",
    "    datos[datos['MarkerValueInt'] != 6].to_csv(ruta_destino)\n",
    "\n",
    "def division_archivos(ruta_origen):\n",
    "    \n",
    "    df = pd.read_csv(ruta_origen)\n",
    "    df = df.drop(['Unnamed: 0'], axis =1)\n",
    "    c = 5\n",
    "    inicio = 0\n",
    "    num_archivos = 0\n",
    "\n",
    "    for e in range(len(df.index)):\n",
    "\n",
    "        if int(df['MarkerValueInt'][e]) != c:\n",
    "            archivo = df.iloc[inicio:e-1, :]\n",
    "            archivo.to_csv(f'{RUTA_DATOS_PROCESADOS}/{ETIQUETAS[c - 1]}/muestra{CONTADORES[c -1]}.csv', index = False)\n",
    "            CONTADORES[c-1] += 1\n",
    "            inicio = e\n",
    "            c = int(df['MarkerValueInt'][e]) \n",
    "            num_archivos +=1\n",
    "\n",
    "    return num_archivos\n",
    "    "
   ]
  },
  {
   "cell_type": "markdown",
   "metadata": {},
   "source": [
    "## Etiquetado "
   ]
  },
  {
   "cell_type": "code",
   "execution_count": 4,
   "metadata": {},
   "outputs": [],
   "source": [
    "archivos = [e for e in os.listdir(RUTA_DATOS_BRUTOS) if e.endswith('.csv')]\n",
    "\n",
    "for indice, archivo in enumerate(archivos):\n",
    "    ruta_origen = os.path.join(RUTA_DATOS_BRUTOS, archivo)\n",
    "    ruta_destino = os.path.join(RUTA_DATOS_PROCESADOS, f'paciente{indice}.csv')\n",
    "    etiquetado(ruta_origen, ruta_destino)"
   ]
  },
  {
   "cell_type": "markdown",
   "metadata": {},
   "source": [
    "## Division en archivos"
   ]
  },
  {
   "cell_type": "code",
   "execution_count": 5,
   "metadata": {},
   "outputs": [
    {
     "name": "stdout",
     "output_type": "stream",
     "text": [
      "Se crearon 199 archivos .csv nuevos para el paciente 0\n",
      "Se crearon 199 archivos .csv nuevos para el paciente 1\n",
      "Se crearon 199 archivos .csv nuevos para el paciente 2\n",
      "Se crearon 199 archivos .csv nuevos para el paciente 3\n",
      "Se crearon 199 archivos .csv nuevos para el paciente 4\n",
      "Se crearon 199 archivos .csv nuevos para el paciente 5\n",
      "Se crearon 199 archivos .csv nuevos para el paciente 6\n",
      "Se crearon 199 archivos .csv nuevos para el paciente 7\n",
      "Se crearon 199 archivos .csv nuevos para el paciente 8\n"
     ]
    }
   ],
   "source": [
    "archivos = [e for e in os.listdir(RUTA_DATOS_PROCESADOS) if e.endswith('.csv')]\n",
    "\n",
    "for indice, archivo in enumerate(archivos):\n",
    "    ruta_origen = os.path.join(RUTA_DATOS_PROCESADOS, archivo)\n",
    "    num_archivos = division_archivos(ruta_origen)\n",
    "    print(f'Se crearon {num_archivos} archivos .csv nuevos para el paciente {indice}')"
   ]
  },
  {
   "cell_type": "code",
   "execution_count": null,
   "metadata": {},
   "outputs": [],
   "source": []
  }
 ],
 "metadata": {
  "kernelspec": {
   "display_name": "Python 3",
   "language": "python",
   "name": "python3"
  },
  "language_info": {
   "codemirror_mode": {
    "name": "ipython",
    "version": 3
   },
   "file_extension": ".py",
   "mimetype": "text/x-python",
   "name": "python",
   "nbconvert_exporter": "python",
   "pygments_lexer": "ipython3",
   "version": "3.9.1"
  }
 },
 "nbformat": 4,
 "nbformat_minor": 4
}

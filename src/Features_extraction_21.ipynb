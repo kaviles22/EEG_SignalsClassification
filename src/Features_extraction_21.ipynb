{
  "nbformat": 4,
  "nbformat_minor": 0,
  "metadata": {
    "accelerator": "GPU",
    "colab": {
      "name": "Copy of SenalesEEG_sinfiltrar_features.ipynb",
      "provenance": []
    },
    "kernelspec": {
      "name": "python391jvsc74a57bd07ec4eee48a1b90125fedd080afd04f965bb6f28dbf2886da6c5cfcc343d0a26d",
      "display_name": "Python 3.9.1 64-bit"
    },
    "metadata": {
      "interpreter": {
        "hash": "7ec4eee48a1b90125fedd080afd04f965bb6f28dbf2886da6c5cfcc343d0a26d"
      }
    }
  },
  "cells": [
    {
      "cell_type": "code",
      "metadata": {
        "id": "LMGavulKyMdH"
      },
      "source": [
        "import pandas as pd\n",
        "import numpy as np\n",
        "import math\n",
        "from scipy import signal\n",
        "import matplotlib.pyplot as plt"
      ],
      "execution_count": 179,
      "outputs": []
    },
    {
      "cell_type": "code",
      "metadata": {
        "id": "SsoOPWIAvV__"
      },
      "source": [
        "path_hilbert = 'C:/EEG_Embedded_Systems/DatosProcesados_V2/'\n",
        "path_hilbert_rojo = path_hilbert + 'RawData_Outliers/7Hz'\n",
        "path_hilbert_azul = path_hilbert + 'RawData_Outliers/9Hz'\n",
        "path_hilbert_verde = path_hilbert + 'RawData_Outliers/11Hz'\n",
        "path_hilbert_morado = path_hilbert + 'RawData_Outliers/13Hz'\n",
        "path_hilbert_baseline = path_hilbert + 'RawData_Outliers/Baseline' "
      ],
      "execution_count": 210,
      "outputs": []
    },
    {
      "cell_type": "code",
      "metadata": {
        "id": "DIEkqnNtAqN1"
      },
      "source": [
        "num_total_rojo = 748\n",
        "num_total_azul = 754\n",
        "num_total_verde = 756\n",
        "num_total_morado = 759\n",
        "num_total_baseline = 759"
      ],
      "execution_count": 211,
      "outputs": []
    },
    {
      "cell_type": "code",
      "metadata": {
        "id": "L4PZ8SkRLjqO"
      },
      "source": [
        "colores = [num_total_rojo, num_total_azul, num_total_verde, num_total_morado, num_total_baseline]\n",
        "color = ['rojo','azul','verde', 'morado', 'baseline']\n",
        "paths = [path_hilbert_rojo, path_hilbert_azul, path_hilbert_verde, path_hilbert_morado, path_hilbert_baseline]\n",
        "electrodos = ['EEG.O1', 'EEG.O2']"
      ],
      "execution_count": 212,
      "outputs": []
    },
    {
      "cell_type": "code",
      "metadata": {
        "id": "SSIf39c-qA9g"
      },
      "source": [
        "def leerEtiquetas(color):\n",
        "  if color == 'azul':\n",
        "    etiqueta = 2\n",
        "  elif color == 'rojo':\n",
        "    etiqueta = 1\n",
        "  elif color == 'verde':\n",
        "    etiqueta = 3\n",
        "  elif color == 'morado':\n",
        "    etiqueta = 4\n",
        "  elif color == 'baseline':\n",
        "    etiqueta = 5\n",
        "  return etiqueta"
      ],
      "execution_count": 213,
      "outputs": []
    },
    {
      "cell_type": "code",
      "metadata": {
        "id": "ScgonkNA8cPi"
      },
      "source": [
        "def leerArchivo(path, num_archivo):\n",
        "    datos = pd.read_csv(path + '/muestra' + num_archivo + '.csv')\n",
        "    return datos"
      ],
      "execution_count": 214,
      "outputs": []
    },
    {
      "cell_type": "code",
      "metadata": {
        "id": "ttoWKU0R6avG"
      },
      "source": [
        "def valorAbsolutoMedio(path, num_archivo, num_total_archivos, columna):\n",
        "    lista = []\n",
        "    datos = leerArchivo(path, num_archivo)\n",
        "    return abs((datos[columna])).to_frame().mean()[columna]\n",
        "    "
      ],
      "execution_count": 215,
      "outputs": []
    },
    {
      "cell_type": "code",
      "metadata": {
        "id": "ZFgnE82tH9Bx"
      },
      "source": [
        "def valorAbsolutoPromedioWeightsI(path, num_archivo, num_total_archivos, columna):\n",
        "  lista = []\n",
        "  datos = leerArchivo(path, num_archivo)\n",
        "  for fila in range(len(datos[columna])):\n",
        "    fila += 1\n",
        "    if fila <= 0.75*len(datos[columna]) and fila >= 0.25*len(datos[columna]):\n",
        "      w = 1\n",
        "    else:\n",
        "      w = 0.5\n",
        "    lista.append(abs(datos.iloc[fila-1][columna])*w)\n",
        "  return np.array(lista).mean()"
      ],
      "execution_count": 216,
      "outputs": []
    },
    {
      "cell_type": "code",
      "metadata": {
        "id": "aWhl8hYmbwN_"
      },
      "source": [
        "def valorAbsolutoPromedioWeightsII(path, num_archivo, num_total_archivos, columna):\n",
        "  lista = []\n",
        "  datos = leerArchivo(path, num_archivo)\n",
        "  for fila in range(len(datos[columna])):\n",
        "    fila += 1\n",
        "    if fila <= 0.75*len(datos[columna]) and fila >= 0.25*len(datos[columna]):\n",
        "      w = 1\n",
        "    elif fila < 0.25*len(datos[columna]) :\n",
        "      w = 4*fila/len(datos[columna])\n",
        "    else:\n",
        "      w = 4*(len(datos[columna])-fila)/len(datos[columna])\n",
        "    lista.append(abs(datos.iloc[fila-1][columna])*w)\n",
        "  return np.array(lista).mean()"
      ],
      "execution_count": 217,
      "outputs": []
    },
    {
      "cell_type": "code",
      "metadata": {
        "id": "pQ30ePpok6bf"
      },
      "source": [
        "def detectorRegistro(path, num_archivo, num_total_archivos, columna):\n",
        "  datos = leerArchivo(path, num_archivo)\n",
        "  return math.exp(np.log(abs(datos[columna]).to_frame()).mean()[columna])"
      ],
      "execution_count": 218,
      "outputs": []
    },
    {
      "cell_type": "code",
      "metadata": {
        "id": "_33udMTcoSD9"
      },
      "source": [
        "def ValorAbsolutoMediana(path, num_archivo, num_total_archivos, columna):\n",
        "  datos = leerArchivo(path, num_archivo)\n",
        "  return abs((datos[columna])).to_frame().median()[columna]\n",
        "  "
      ],
      "execution_count": 219,
      "outputs": []
    },
    {
      "cell_type": "code",
      "metadata": {
        "id": "creD-ttcqXJh"
      },
      "source": [
        "def varianza(path, num_archivo, num_total_archivos, columna):\n",
        "  datos = leerArchivo(path, num_archivo)\n",
        "  return abs((datos[columna])).var(ddof=0)"
      ],
      "execution_count": 220,
      "outputs": []
    },
    {
      "cell_type": "code",
      "metadata": {
        "id": "P_hERFBpt2xm"
      },
      "source": [
        "def diferencia_absoluta(v):\n",
        "  sum_diff = 0\n",
        "  for i,x in enumerate(v):\n",
        "    if i+1 < len(v):\n",
        "      sum_diff += abs(v[i+1] - x)\n",
        "      r = sum_diff/len(v)\n",
        "  return r\n",
        "def valorMediaDiferenciaAbsoluta(path, num_archivo, num_total_archivos, columna):\n",
        "  datos = leerArchivo(path, num_archivo)\n",
        "  return diferencia_absoluta(datos[columna].to_list())"
      ],
      "execution_count": 221,
      "outputs": []
    },
    {
      "cell_type": "code",
      "metadata": {
        "id": "JLv5jn2Ix6pe"
      },
      "source": [
        "def zeroCrossing(path, num_archivo, num_total_archivos, columna):\n",
        "  datos = leerArchivo(path, num_archivo)[columna].to_list()\n",
        "  zerocrossing = 0\n",
        "  for i in range(1, len(datos)):\n",
        "    if ((datos[i-1]) > 0 and datos[i] < 0):\n",
        "        zerocrossing += 1\n",
        "    if ((datos[i-1]) < 0 and datos[i] > 0):\n",
        "        zerocrossing += 1\n",
        "  return zerocrossing"
      ],
      "execution_count": 222,
      "outputs": []
    },
    {
      "cell_type": "code",
      "metadata": {
        "id": "vsurZ5gszwJu"
      },
      "source": [
        "def frecuenciaMedia(path, num_archivo, num_total_archivos, columna):\n",
        "  datos = leerArchivo(path, num_archivo)[columna].to_list()\n",
        "  frecuencia, spectrum = signal.periodogram(datos, 128)\n",
        "  frecuenciaMedia = ((frecuencia * spectrum).sum())/(spectrum.sum())\n",
        "  return frecuenciaMedia"
      ],
      "execution_count": 223,
      "outputs": []
    },
    {
      "cell_type": "code",
      "metadata": {
        "id": "C4tnYmU8lRom"
      },
      "source": [
        "def frecuenciaPico(path, num_archivo, num_total_archivos, columna):\n",
        "  datos = leerArchivo(path, num_archivo)[columna].to_list()\n",
        "  f, sp = signal.periodogram(datos, 128)\n",
        "  frecuencia = f[30:60]\n",
        "  spectrum = sp[30:60]\n",
        "  frecuencia_pico_indice = np.argmax(spectrum)\n",
        "  return frecuencia[frecuencia_pico_indice]"
      ],
      "execution_count": 224,
      "outputs": []
    },
    {
      "cell_type": "code",
      "metadata": {
        "id": "CCpZcPzrW0Fy"
      },
      "source": [
        "def VarianzaFrecuenciaCentral(path, num_archivo, num_total_archivos, columna):\n",
        "    datos = leerArchivo(path, num_archivo)[columna].to_list()\n",
        "    f, sp = signal.periodogram(datos, 128)\n",
        "    frecuencia_promedio = np.mean(f)\n",
        "    return np.sum(sp * pow(f- frecuencia_promedio,2))/frecuencia_promedio"
      ],
      "execution_count": 225,
      "outputs": []
    },
    {
      "cell_type": "code",
      "metadata": {
        "id": "cFRdIdsCS4UU"
      },
      "source": [
        "def PSDmax(path, num_archivo, num_total_archivos, columna):\n",
        "  datos = leerArchivo(path, num_archivo)\n",
        "  datos = datos[columna].to_list()\n",
        "  f, sp = signal.periodogram(datos, 128)\n",
        "  frecuencia = f[30:60]\n",
        "  spectrum = sp[30:60]\n",
        "  psd_max = np.max(spectrum)\n",
        "  return psd_max"
      ],
      "execution_count": 226,
      "outputs": []
    },
    {
      "cell_type": "code",
      "metadata": {
        "id": "HOrNROFjP1cl"
      },
      "source": [
        "electrodo = electrodos[0]\n",
        "muestra = []\n",
        "df1 = pd.DataFrame()\n",
        "for i in range(12):\n",
        "  lista = []\n",
        "  if i==0:\n",
        "    for i in range(len(colores)):\n",
        "      print(colores[i])\n",
        "      for num_archivo in range(colores[i]+1):\n",
        "        muestra.append(num_archivo)\n",
        "        lista.append(valorAbsolutoMedio(paths[i], str(num_archivo), colores[i], electrodo))\n",
        "    df1['valorAbsMedio'] = lista\n",
        "    lista = []\n",
        "  elif i==1:\n",
        "    for i in range(len(colores)):\n",
        "      for num_archivo in range(colores[i]+1):\n",
        "        lista.append(valorAbsolutoPromedioWeightsI(paths[i], str(num_archivo), colores[i], electrodo))\n",
        "    df1['valorAbsPromWI'] = lista\n",
        "    lista = []\n",
        "  elif i==2:\n",
        "    for i in range(len(colores)):\n",
        "      for num_archivo in range(colores[i]+1):\n",
        "        lista.append(valorAbsolutoPromedioWeightsII(paths[i], str(num_archivo), colores[i], electrodo))\n",
        "    df1['valorAbsPromWII'] = lista\n",
        "    lista = []\n",
        "  elif i==3:\n",
        "    for i in range(len(colores)):\n",
        "      for num_archivo in range(colores[i]+1):\n",
        "        lista.append(detectorRegistro(paths[i], str(num_archivo), colores[i], electrodo))\n",
        "    df1['LogDet'] = lista\n",
        "    lista = []\n",
        "  elif i==4:\n",
        "    for i in range(len(colores)):\n",
        "      for num_archivo in range(colores[i]+1):\n",
        "        lista.append(ValorAbsolutoMediana(paths[i], str(num_archivo), colores[i], electrodo))\n",
        "    df1['valorAbsMediana'] = lista\n",
        "    lista = []\n",
        "  elif i==5:\n",
        "    for i in range(len(colores)):\n",
        "      for num_archivo in range(colores[i]+1):\n",
        "        lista.append(varianza(paths[i], str(num_archivo), colores[i], electrodo))\n",
        "    df1['Varianza'] = lista\n",
        "    lista = []\n",
        "  elif i==6:\n",
        "    for i in range(len(colores)):\n",
        "      for num_archivo in range(colores[i]+1):\n",
        "        lista.append(valorMediaDiferenciaAbsoluta(paths[i], str(num_archivo), colores[i], electrodo))\n",
        "    df1['valorMediaDiferenciaAbs'] = lista\n",
        "    lista = []\n",
        "  elif i==7:\n",
        "    for i in range(len(colores)):\n",
        "      for num_archivo in range(colores[i]+1):\n",
        "        lista.append(zeroCrossing(paths[i], str(num_archivo), colores[i], electrodo))\n",
        "    df1['zeroCrosing'] = lista\n",
        "    lista = []\n",
        "  elif i==8:\n",
        "    for i in range(len(colores)):\n",
        "      for num_archivo in range(colores[i]+1):\n",
        "        lista.append(frecuenciaMedia(paths[i], str(num_archivo), colores[i], electrodo))\n",
        "    df1['frecMedia'] = lista\n",
        "    lista = []\n",
        "  elif i==9:\n",
        "    for i in range(len(colores)):\n",
        "      for num_archivo in range(colores[i]+1):\n",
        "        lista.append(frecuenciaPico(paths[i], str(num_archivo), colores[i], electrodo))\n",
        "    df1['Frecuencia_en_PSDMAX'] = lista\n",
        "    lista = []\n",
        "  elif i==10:\n",
        "    for i in range(len(colores)):\n",
        "      for num_archivo in range(colores[i]+1):\n",
        "        lista.append(VarianzaFrecuenciaCentral(paths[i], str(num_archivo), colores[i], electrodo))\n",
        "    df1['VarianzaFrecCentral'] = lista\n",
        "    lista = []\n",
        "  elif i==11:\n",
        "    for i in range(len(colores)):\n",
        "      for num_archivo in range(colores[i]+1):\n",
        "        lista.append(PSDmax(paths[i], str(num_archivo), colores[i], electrodo))\n",
        "    df1['PSD_max'] = lista\n",
        "    lista = []\n"
      ],
      "execution_count": 227,
      "outputs": [
        {
          "output_type": "stream",
          "name": "stdout",
          "text": [
            "748\n",
            "754\n",
            "756\n",
            "759\n",
            "759\n"
          ]
        }
      ]
    },
    {
      "cell_type": "code",
      "metadata": {
        "id": "mn4yDjQslD3Y",
        "colab": {
          "base_uri": "https://localhost:8080/",
          "height": 439
        },
        "outputId": "32ce0161-78a4-4d5d-bc18-6c83ae10fed0"
      },
      "source": [
        "df1"
      ],
      "execution_count": 228,
      "outputs": [
        {
          "output_type": "execute_result",
          "data": {
            "text/plain": [
              "      valorAbsMedio  valorAbsPromWI  valorAbsPromWII       LogDet  \\\n",
              "0       4188.344319     3141.106091      3143.860811  4188.312863   \n",
              "1       4160.571140     3117.119715      3118.722716  4160.556085   \n",
              "2       4165.060963     3122.079979      3124.524351  4165.046551   \n",
              "3       4167.631013     3125.788802      3126.146217  4167.616336   \n",
              "4       4161.946576     3120.916378      3120.923287  4161.930249   \n",
              "...             ...             ...              ...          ...   \n",
              "3776    4154.579238     3118.003925      3115.557700  4154.572461   \n",
              "3777    4165.831746     3122.231869      3124.601907  4165.827770   \n",
              "3778    4168.033107     3123.843807      3126.229870  4168.030201   \n",
              "3779    4165.732984     3124.475396      3124.403545  4165.717913   \n",
              "3780    4164.508215     3127.987317      3123.529265  4164.492359   \n",
              "\n",
              "      valorAbsMediana    Varianza  valorMediaDiferenciaAbs  zeroCrosing  \\\n",
              "0         4191.538574  263.003064                 4.907199            0   \n",
              "1         4159.487305  125.300125                 5.124539            0   \n",
              "2         4166.794922  120.029040                 5.020855            0   \n",
              "3         4167.820313  122.336343                10.596902            0   \n",
              "4         4163.077148  135.850221                 9.297143            0   \n",
              "...               ...         ...                      ...          ...   \n",
              "3776      4153.974121   56.307669                 2.859525            0   \n",
              "3777      4167.820313   33.107793                 2.451898            0   \n",
              "3778      4168.589844   24.219221                 2.382774            0   \n",
              "3779      4166.154053  125.553248                10.885044            0   \n",
              "3780      4164.615234  132.028649                11.926640            0   \n",
              "\n",
              "      frecMedia  Frecuencia_en_PSDMAX  VarianzaFrecCentral    PSD_max  \n",
              "0      4.110897             10.832962         24188.660444   8.691949  \n",
              "1      8.796557             16.105960          8754.741189  12.768647  \n",
              "2      8.545238             13.968820          8604.462317   9.049548  \n",
              "3     25.076336             11.766816          2695.099529  12.115849  \n",
              "4     18.309750             15.360000          6125.559513   5.251169  \n",
              "...         ...                   ...                  ...        ...  \n",
              "3776   5.374231             10.022371          4954.615523   1.941834  \n",
              "3777   7.027914             10.262806          2693.225769   1.473546  \n",
              "3778   9.410979              9.122494          1713.190552   2.837485  \n",
              "3779  25.533001             14.791111          2963.298884  19.618981  \n",
              "3780  27.132549             12.571429          2518.125922   6.002863  \n",
              "\n",
              "[3781 rows x 12 columns]"
            ],
            "text/html": "<div>\n<style scoped>\n    .dataframe tbody tr th:only-of-type {\n        vertical-align: middle;\n    }\n\n    .dataframe tbody tr th {\n        vertical-align: top;\n    }\n\n    .dataframe thead th {\n        text-align: right;\n    }\n</style>\n<table border=\"1\" class=\"dataframe\">\n  <thead>\n    <tr style=\"text-align: right;\">\n      <th></th>\n      <th>valorAbsMedio</th>\n      <th>valorAbsPromWI</th>\n      <th>valorAbsPromWII</th>\n      <th>LogDet</th>\n      <th>valorAbsMediana</th>\n      <th>Varianza</th>\n      <th>valorMediaDiferenciaAbs</th>\n      <th>zeroCrosing</th>\n      <th>frecMedia</th>\n      <th>Frecuencia_en_PSDMAX</th>\n      <th>VarianzaFrecCentral</th>\n      <th>PSD_max</th>\n    </tr>\n  </thead>\n  <tbody>\n    <tr>\n      <th>0</th>\n      <td>4188.344319</td>\n      <td>3141.106091</td>\n      <td>3143.860811</td>\n      <td>4188.312863</td>\n      <td>4191.538574</td>\n      <td>263.003064</td>\n      <td>4.907199</td>\n      <td>0</td>\n      <td>4.110897</td>\n      <td>10.832962</td>\n      <td>24188.660444</td>\n      <td>8.691949</td>\n    </tr>\n    <tr>\n      <th>1</th>\n      <td>4160.571140</td>\n      <td>3117.119715</td>\n      <td>3118.722716</td>\n      <td>4160.556085</td>\n      <td>4159.487305</td>\n      <td>125.300125</td>\n      <td>5.124539</td>\n      <td>0</td>\n      <td>8.796557</td>\n      <td>16.105960</td>\n      <td>8754.741189</td>\n      <td>12.768647</td>\n    </tr>\n    <tr>\n      <th>2</th>\n      <td>4165.060963</td>\n      <td>3122.079979</td>\n      <td>3124.524351</td>\n      <td>4165.046551</td>\n      <td>4166.794922</td>\n      <td>120.029040</td>\n      <td>5.020855</td>\n      <td>0</td>\n      <td>8.545238</td>\n      <td>13.968820</td>\n      <td>8604.462317</td>\n      <td>9.049548</td>\n    </tr>\n    <tr>\n      <th>3</th>\n      <td>4167.631013</td>\n      <td>3125.788802</td>\n      <td>3126.146217</td>\n      <td>4167.616336</td>\n      <td>4167.820313</td>\n      <td>122.336343</td>\n      <td>10.596902</td>\n      <td>0</td>\n      <td>25.076336</td>\n      <td>11.766816</td>\n      <td>2695.099529</td>\n      <td>12.115849</td>\n    </tr>\n    <tr>\n      <th>4</th>\n      <td>4161.946576</td>\n      <td>3120.916378</td>\n      <td>3120.923287</td>\n      <td>4161.930249</td>\n      <td>4163.077148</td>\n      <td>135.850221</td>\n      <td>9.297143</td>\n      <td>0</td>\n      <td>18.309750</td>\n      <td>15.360000</td>\n      <td>6125.559513</td>\n      <td>5.251169</td>\n    </tr>\n    <tr>\n      <th>...</th>\n      <td>...</td>\n      <td>...</td>\n      <td>...</td>\n      <td>...</td>\n      <td>...</td>\n      <td>...</td>\n      <td>...</td>\n      <td>...</td>\n      <td>...</td>\n      <td>...</td>\n      <td>...</td>\n      <td>...</td>\n    </tr>\n    <tr>\n      <th>3776</th>\n      <td>4154.579238</td>\n      <td>3118.003925</td>\n      <td>3115.557700</td>\n      <td>4154.572461</td>\n      <td>4153.974121</td>\n      <td>56.307669</td>\n      <td>2.859525</td>\n      <td>0</td>\n      <td>5.374231</td>\n      <td>10.022371</td>\n      <td>4954.615523</td>\n      <td>1.941834</td>\n    </tr>\n    <tr>\n      <th>3777</th>\n      <td>4165.831746</td>\n      <td>3122.231869</td>\n      <td>3124.601907</td>\n      <td>4165.827770</td>\n      <td>4167.820313</td>\n      <td>33.107793</td>\n      <td>2.451898</td>\n      <td>0</td>\n      <td>7.027914</td>\n      <td>10.262806</td>\n      <td>2693.225769</td>\n      <td>1.473546</td>\n    </tr>\n    <tr>\n      <th>3778</th>\n      <td>4168.033107</td>\n      <td>3123.843807</td>\n      <td>3126.229870</td>\n      <td>4168.030201</td>\n      <td>4168.589844</td>\n      <td>24.219221</td>\n      <td>2.382774</td>\n      <td>0</td>\n      <td>9.410979</td>\n      <td>9.122494</td>\n      <td>1713.190552</td>\n      <td>2.837485</td>\n    </tr>\n    <tr>\n      <th>3779</th>\n      <td>4165.732984</td>\n      <td>3124.475396</td>\n      <td>3124.403545</td>\n      <td>4165.717913</td>\n      <td>4166.154053</td>\n      <td>125.553248</td>\n      <td>10.885044</td>\n      <td>0</td>\n      <td>25.533001</td>\n      <td>14.791111</td>\n      <td>2963.298884</td>\n      <td>19.618981</td>\n    </tr>\n    <tr>\n      <th>3780</th>\n      <td>4164.508215</td>\n      <td>3127.987317</td>\n      <td>3123.529265</td>\n      <td>4164.492359</td>\n      <td>4164.615234</td>\n      <td>132.028649</td>\n      <td>11.926640</td>\n      <td>0</td>\n      <td>27.132549</td>\n      <td>12.571429</td>\n      <td>2518.125922</td>\n      <td>6.002863</td>\n    </tr>\n  </tbody>\n</table>\n<p>3781 rows × 12 columns</p>\n</div>"
          },
          "metadata": {},
          "execution_count": 228
        }
      ]
    },
    {
      "cell_type": "code",
      "execution_count": 229,
      "metadata": {},
      "outputs": [],
      "source": [
        "  #DEFINIR LOS INTERVALOS DE FRECUENCIA\n",
        "  interv1 = [0,6.5]\n",
        "  interv2 = [interv1[1], interv1[1]+6.5]\n",
        "  interv3 = [interv2[1], interv2[1]+6.5]\n",
        "  interv4 = [19.5, 26]\n",
        "  interv5 = [interv4[1], interv4[1]+6.5]\n",
        "  interv6 = [interv5[1], interv5[1]+6.5]\n",
        "  interv7 = [interv6[1], interv6[1]+6.5]\n",
        "  interv8 = [interv7[1], interv7[1]+6.5]\n",
        "  interv9 = [interv8[1], interv8[1]+6.5]\n",
        "  interv10 = [interv9[1], interv9[1]+6.5]\n",
        "  \n",
        "  primer_intervalo = []\n",
        "  segundo_intervalo = []\n",
        "  tercer_intervalo = []\n",
        "  cuarto_intervalo = []\n",
        "  quinto_intervalo = []\n",
        "  sexto_intervalo = []\n",
        "  septimo_intervalo = []\n",
        "  octavo_intervalo = []\n",
        "  noveno_intervalo = []\n",
        "  decimo_intervalo = []"
      ]
    },
    {
      "cell_type": "code",
      "execution_count": 230,
      "metadata": {},
      "outputs": [],
      "source": [
        "def HistogramaAmplitud(path, num_archivo, columna):\n",
        "  interv1_lista = []\n",
        "  interv2_lista = []\n",
        "  interv3_lista = []\n",
        "  interv4_lista = []\n",
        "  interv5_lista = []\n",
        "  interv6_lista = []\n",
        "  interv7_lista = []\n",
        "  interv8_lista = []\n",
        "  interv9_lista = []\n",
        "  interv10_lista = []\n",
        "  datos = leerArchivo(path, num_archivo)[columna]\n",
        "  frecuencia, spectrum = signal.periodogram(datos, 128)\n",
        "  datos = frecuencia\n",
        "  spectrum = spectrum.tolist()\n",
        "  total = sum(spectrum)\n",
        "  for dato in datos:\n",
        "    if interv1[0] <= dato < interv1[1]:\n",
        "      interv1_lista.append(spectrum[int(np.where(datos == dato)[0])])\n",
        "    elif interv2[0] <= dato < interv2[1]:\n",
        "      interv2_lista.append(spectrum[int(np.where(datos == dato)[0])])\n",
        "    elif interv3[0] <= dato < interv3[1]:\n",
        "      interv3_lista.append(spectrum[int(np.where(datos == dato)[0])])\n",
        "    elif interv4[0] <= dato < interv4[1]:\n",
        "      interv4_lista.append(spectrum[int(np.where(datos == dato)[0])])\n",
        "    elif interv5[0] <= dato < interv5[1]:\n",
        "      interv5_lista.append(spectrum[int(np.where(datos == dato)[0])])\n",
        "    elif interv6[0] <= dato < interv6[1]:\n",
        "      interv6_lista.append(spectrum[int(np.where(datos == dato)[0])])\n",
        "    elif interv7[0] <= dato < interv7[1]:\n",
        "      interv7_lista.append(spectrum[int(np.where(datos == dato)[0])])\n",
        "    elif interv8[0] <= dato < interv8[1]:\n",
        "      interv8_lista.append(spectrum[int(np.where(datos == dato)[0])])\n",
        "    elif interv9[0] <= dato < interv9[1]:\n",
        "      interv9_lista.append(spectrum[int(np.where(datos == dato)[0])])\n",
        "    elif interv10[0] <= dato < interv10[1]:\n",
        "      interv10_lista.append(spectrum[int(np.where(datos == dato)[0])])\n",
        "  primer_intervalo.append(sum(interv1_lista)/total)\n",
        "  segundo_intervalo.append(sum(interv2_lista)/total)\n",
        "  tercer_intervalo.append(sum(interv3_lista)/total)\n",
        "  cuarto_intervalo.append(sum(interv4_lista)/total)\n",
        "  quinto_intervalo.append(sum(interv5_lista)/total)\n",
        "  sexto_intervalo.append(sum(interv6_lista)/total)\n",
        "  septimo_intervalo.append(sum(interv7_lista)/total)\n",
        "  octavo_intervalo.append(sum(interv8_lista)/total)\n",
        "  noveno_intervalo.append(sum(interv9_lista)/total)\n",
        "  decimo_intervalo.append(sum(interv10_lista)/total)"
      ]
    },
    {
      "cell_type": "code",
      "execution_count": 231,
      "metadata": {},
      "outputs": [],
      "source": [
        "for i in range(len(colores)):\n",
        "  for num_archivo in range(colores[i]+1):\n",
        "    HistogramaAmplitud(paths[i], str(num_archivo), electrodo)"
      ]
    },
    {
      "cell_type": "code",
      "execution_count": 232,
      "metadata": {},
      "outputs": [],
      "source": [
        "df1['FHist1'] = primer_intervalo\n",
        "df1['FHist2'] = segundo_intervalo\n",
        "df1['FHist3'] = tercer_intervalo\n",
        "df1['FHist4'] = cuarto_intervalo\n",
        "df1['FHist5'] = quinto_intervalo\n",
        "df1['FHist6'] = sexto_intervalo\n",
        "df1['FHist7'] = septimo_intervalo\n",
        "df1['FHist8'] = octavo_intervalo\n",
        "df1['FHist9'] = noveno_intervalo\n",
        "df1['FHist10'] = decimo_intervalo"
      ]
    },
    {
      "cell_type": "code",
      "metadata": {
        "id": "I1o312-Nc46D"
      },
      "source": [
        "etiquetas = []\n",
        "for i in range(len(colores)):\n",
        "  for num_archivo in range(colores[i]+1):\n",
        "    etiquetas.append(leerEtiquetas(color[i]))"
      ],
      "execution_count": 233,
      "outputs": []
    },
    {
      "cell_type": "code",
      "metadata": {
        "id": "CfzSgPMmrZun"
      },
      "source": [
        "df1['Etiqueta'] = etiquetas\n",
        "df1['Muestra'] = muestra"
      ],
      "execution_count": 234,
      "outputs": []
    },
    {
      "cell_type": "code",
      "execution_count": 235,
      "metadata": {},
      "outputs": [
        {
          "output_type": "execute_result",
          "data": {
            "text/plain": [
              "      valorAbsMedio  valorAbsPromWI  valorAbsPromWII       LogDet  \\\n",
              "0       4188.344319     3141.106091      3143.860811  4188.312863   \n",
              "1       4160.571140     3117.119715      3118.722716  4160.556085   \n",
              "2       4165.060963     3122.079979      3124.524351  4165.046551   \n",
              "3       4167.631013     3125.788802      3126.146217  4167.616336   \n",
              "4       4161.946576     3120.916378      3120.923287  4161.930249   \n",
              "...             ...             ...              ...          ...   \n",
              "3776    4154.579238     3118.003925      3115.557700  4154.572461   \n",
              "3777    4165.831746     3122.231869      3124.601907  4165.827770   \n",
              "3778    4168.033107     3123.843807      3126.229870  4168.030201   \n",
              "3779    4165.732984     3124.475396      3124.403545  4165.717913   \n",
              "3780    4164.508215     3127.987317      3123.529265  4164.492359   \n",
              "\n",
              "      valorAbsMediana    Varianza  valorMediaDiferenciaAbs  zeroCrosing  \\\n",
              "0         4191.538574  263.003064                 4.907199            0   \n",
              "1         4159.487305  125.300125                 5.124539            0   \n",
              "2         4166.794922  120.029040                 5.020855            0   \n",
              "3         4167.820313  122.336343                10.596902            0   \n",
              "4         4163.077148  135.850221                 9.297143            0   \n",
              "...               ...         ...                      ...          ...   \n",
              "3776      4153.974121   56.307669                 2.859525            0   \n",
              "3777      4167.820313   33.107793                 2.451898            0   \n",
              "3778      4168.589844   24.219221                 2.382774            0   \n",
              "3779      4166.154053  125.553248                10.885044            0   \n",
              "3780      4164.615234  132.028649                11.926640            0   \n",
              "\n",
              "      frecMedia  Frecuencia_en_PSDMAX  ...    FHist3    FHist4    FHist5  \\\n",
              "0      4.110897             10.832962  ...  0.053020  0.029086  0.013134   \n",
              "1      8.796557             16.105960  ...  0.199357  0.039454  0.030395   \n",
              "2      8.545238             13.968820  ...  0.171154  0.033623  0.032266   \n",
              "3     25.076336             11.766816  ...  0.076596  0.182252  0.179425   \n",
              "4     18.309750             15.360000  ...  0.074356  0.154374  0.129906   \n",
              "...         ...                   ...  ...       ...       ...       ...   \n",
              "3776   5.374231             10.022371  ...  0.037347  0.047350  0.028244   \n",
              "3777   7.027914             10.262806  ...  0.056380  0.038795  0.045317   \n",
              "3778   9.410979              9.122494  ...  0.071389  0.080169  0.055828   \n",
              "3779  25.533001             14.791111  ...  0.090239  0.107977  0.218857   \n",
              "3780  27.132549             12.571429  ...  0.063282  0.120713  0.196694   \n",
              "\n",
              "        FHist6    FHist7    FHist8    FHist9   FHist10  Etiqueta  Muestra  \n",
              "0     0.016074  0.004940  0.000622  0.000199  0.000233         1        0  \n",
              "1     0.028012  0.011137  0.000551  0.000257  0.000037         1        1  \n",
              "2     0.039550  0.013038  0.000600  0.000251  0.000114         1        2  \n",
              "3     0.260489  0.072303  0.007158  0.001904  0.000501         1        3  \n",
              "4     0.166674  0.057366  0.005268  0.001543  0.000701         1        4  \n",
              "...        ...       ...       ...       ...       ...       ...      ...  \n",
              "3776  0.030348  0.013062  0.000962  0.000353  0.000193         5      755  \n",
              "3777  0.051246  0.008163  0.001762  0.000483  0.000147         5      756  \n",
              "3778  0.040231  0.023089  0.003106  0.001376  0.000692         5      757  \n",
              "3779  0.253044  0.117418  0.006533  0.002050  0.000668         5      758  \n",
              "3780  0.344849  0.093651  0.005600  0.001588  0.000326         5      759  \n",
              "\n",
              "[3781 rows x 24 columns]"
            ],
            "text/html": "<div>\n<style scoped>\n    .dataframe tbody tr th:only-of-type {\n        vertical-align: middle;\n    }\n\n    .dataframe tbody tr th {\n        vertical-align: top;\n    }\n\n    .dataframe thead th {\n        text-align: right;\n    }\n</style>\n<table border=\"1\" class=\"dataframe\">\n  <thead>\n    <tr style=\"text-align: right;\">\n      <th></th>\n      <th>valorAbsMedio</th>\n      <th>valorAbsPromWI</th>\n      <th>valorAbsPromWII</th>\n      <th>LogDet</th>\n      <th>valorAbsMediana</th>\n      <th>Varianza</th>\n      <th>valorMediaDiferenciaAbs</th>\n      <th>zeroCrosing</th>\n      <th>frecMedia</th>\n      <th>Frecuencia_en_PSDMAX</th>\n      <th>...</th>\n      <th>FHist3</th>\n      <th>FHist4</th>\n      <th>FHist5</th>\n      <th>FHist6</th>\n      <th>FHist7</th>\n      <th>FHist8</th>\n      <th>FHist9</th>\n      <th>FHist10</th>\n      <th>Etiqueta</th>\n      <th>Muestra</th>\n    </tr>\n  </thead>\n  <tbody>\n    <tr>\n      <th>0</th>\n      <td>4188.344319</td>\n      <td>3141.106091</td>\n      <td>3143.860811</td>\n      <td>4188.312863</td>\n      <td>4191.538574</td>\n      <td>263.003064</td>\n      <td>4.907199</td>\n      <td>0</td>\n      <td>4.110897</td>\n      <td>10.832962</td>\n      <td>...</td>\n      <td>0.053020</td>\n      <td>0.029086</td>\n      <td>0.013134</td>\n      <td>0.016074</td>\n      <td>0.004940</td>\n      <td>0.000622</td>\n      <td>0.000199</td>\n      <td>0.000233</td>\n      <td>1</td>\n      <td>0</td>\n    </tr>\n    <tr>\n      <th>1</th>\n      <td>4160.571140</td>\n      <td>3117.119715</td>\n      <td>3118.722716</td>\n      <td>4160.556085</td>\n      <td>4159.487305</td>\n      <td>125.300125</td>\n      <td>5.124539</td>\n      <td>0</td>\n      <td>8.796557</td>\n      <td>16.105960</td>\n      <td>...</td>\n      <td>0.199357</td>\n      <td>0.039454</td>\n      <td>0.030395</td>\n      <td>0.028012</td>\n      <td>0.011137</td>\n      <td>0.000551</td>\n      <td>0.000257</td>\n      <td>0.000037</td>\n      <td>1</td>\n      <td>1</td>\n    </tr>\n    <tr>\n      <th>2</th>\n      <td>4165.060963</td>\n      <td>3122.079979</td>\n      <td>3124.524351</td>\n      <td>4165.046551</td>\n      <td>4166.794922</td>\n      <td>120.029040</td>\n      <td>5.020855</td>\n      <td>0</td>\n      <td>8.545238</td>\n      <td>13.968820</td>\n      <td>...</td>\n      <td>0.171154</td>\n      <td>0.033623</td>\n      <td>0.032266</td>\n      <td>0.039550</td>\n      <td>0.013038</td>\n      <td>0.000600</td>\n      <td>0.000251</td>\n      <td>0.000114</td>\n      <td>1</td>\n      <td>2</td>\n    </tr>\n    <tr>\n      <th>3</th>\n      <td>4167.631013</td>\n      <td>3125.788802</td>\n      <td>3126.146217</td>\n      <td>4167.616336</td>\n      <td>4167.820313</td>\n      <td>122.336343</td>\n      <td>10.596902</td>\n      <td>0</td>\n      <td>25.076336</td>\n      <td>11.766816</td>\n      <td>...</td>\n      <td>0.076596</td>\n      <td>0.182252</td>\n      <td>0.179425</td>\n      <td>0.260489</td>\n      <td>0.072303</td>\n      <td>0.007158</td>\n      <td>0.001904</td>\n      <td>0.000501</td>\n      <td>1</td>\n      <td>3</td>\n    </tr>\n    <tr>\n      <th>4</th>\n      <td>4161.946576</td>\n      <td>3120.916378</td>\n      <td>3120.923287</td>\n      <td>4161.930249</td>\n      <td>4163.077148</td>\n      <td>135.850221</td>\n      <td>9.297143</td>\n      <td>0</td>\n      <td>18.309750</td>\n      <td>15.360000</td>\n      <td>...</td>\n      <td>0.074356</td>\n      <td>0.154374</td>\n      <td>0.129906</td>\n      <td>0.166674</td>\n      <td>0.057366</td>\n      <td>0.005268</td>\n      <td>0.001543</td>\n      <td>0.000701</td>\n      <td>1</td>\n      <td>4</td>\n    </tr>\n    <tr>\n      <th>...</th>\n      <td>...</td>\n      <td>...</td>\n      <td>...</td>\n      <td>...</td>\n      <td>...</td>\n      <td>...</td>\n      <td>...</td>\n      <td>...</td>\n      <td>...</td>\n      <td>...</td>\n      <td>...</td>\n      <td>...</td>\n      <td>...</td>\n      <td>...</td>\n      <td>...</td>\n      <td>...</td>\n      <td>...</td>\n      <td>...</td>\n      <td>...</td>\n      <td>...</td>\n      <td>...</td>\n    </tr>\n    <tr>\n      <th>3776</th>\n      <td>4154.579238</td>\n      <td>3118.003925</td>\n      <td>3115.557700</td>\n      <td>4154.572461</td>\n      <td>4153.974121</td>\n      <td>56.307669</td>\n      <td>2.859525</td>\n      <td>0</td>\n      <td>5.374231</td>\n      <td>10.022371</td>\n      <td>...</td>\n      <td>0.037347</td>\n      <td>0.047350</td>\n      <td>0.028244</td>\n      <td>0.030348</td>\n      <td>0.013062</td>\n      <td>0.000962</td>\n      <td>0.000353</td>\n      <td>0.000193</td>\n      <td>5</td>\n      <td>755</td>\n    </tr>\n    <tr>\n      <th>3777</th>\n      <td>4165.831746</td>\n      <td>3122.231869</td>\n      <td>3124.601907</td>\n      <td>4165.827770</td>\n      <td>4167.820313</td>\n      <td>33.107793</td>\n      <td>2.451898</td>\n      <td>0</td>\n      <td>7.027914</td>\n      <td>10.262806</td>\n      <td>...</td>\n      <td>0.056380</td>\n      <td>0.038795</td>\n      <td>0.045317</td>\n      <td>0.051246</td>\n      <td>0.008163</td>\n      <td>0.001762</td>\n      <td>0.000483</td>\n      <td>0.000147</td>\n      <td>5</td>\n      <td>756</td>\n    </tr>\n    <tr>\n      <th>3778</th>\n      <td>4168.033107</td>\n      <td>3123.843807</td>\n      <td>3126.229870</td>\n      <td>4168.030201</td>\n      <td>4168.589844</td>\n      <td>24.219221</td>\n      <td>2.382774</td>\n      <td>0</td>\n      <td>9.410979</td>\n      <td>9.122494</td>\n      <td>...</td>\n      <td>0.071389</td>\n      <td>0.080169</td>\n      <td>0.055828</td>\n      <td>0.040231</td>\n      <td>0.023089</td>\n      <td>0.003106</td>\n      <td>0.001376</td>\n      <td>0.000692</td>\n      <td>5</td>\n      <td>757</td>\n    </tr>\n    <tr>\n      <th>3779</th>\n      <td>4165.732984</td>\n      <td>3124.475396</td>\n      <td>3124.403545</td>\n      <td>4165.717913</td>\n      <td>4166.154053</td>\n      <td>125.553248</td>\n      <td>10.885044</td>\n      <td>0</td>\n      <td>25.533001</td>\n      <td>14.791111</td>\n      <td>...</td>\n      <td>0.090239</td>\n      <td>0.107977</td>\n      <td>0.218857</td>\n      <td>0.253044</td>\n      <td>0.117418</td>\n      <td>0.006533</td>\n      <td>0.002050</td>\n      <td>0.000668</td>\n      <td>5</td>\n      <td>758</td>\n    </tr>\n    <tr>\n      <th>3780</th>\n      <td>4164.508215</td>\n      <td>3127.987317</td>\n      <td>3123.529265</td>\n      <td>4164.492359</td>\n      <td>4164.615234</td>\n      <td>132.028649</td>\n      <td>11.926640</td>\n      <td>0</td>\n      <td>27.132549</td>\n      <td>12.571429</td>\n      <td>...</td>\n      <td>0.063282</td>\n      <td>0.120713</td>\n      <td>0.196694</td>\n      <td>0.344849</td>\n      <td>0.093651</td>\n      <td>0.005600</td>\n      <td>0.001588</td>\n      <td>0.000326</td>\n      <td>5</td>\n      <td>759</td>\n    </tr>\n  </tbody>\n</table>\n<p>3781 rows × 24 columns</p>\n</div>"
          },
          "metadata": {},
          "execution_count": 235
        }
      ],
      "source": [
        "df1"
      ]
    },
    {
      "cell_type": "code",
      "metadata": {
        "id": "HaKKlXXNZcNT"
      },
      "source": [
        "df1.to_csv(\"C:/EEG_Embedded_Systems/New_Features/21_V2/Features_\" + electrodo +'.csv', index = False)"
      ],
      "execution_count": 236,
      "outputs": []
    },
    {
      "cell_type": "code",
      "metadata": {
        "id": "cPhG4zzFmByp"
      },
      "source": [
        "minimos = []\n",
        "maximos = []\n",
        "for i in range(len(colores)):\n",
        "  for num_archivo in range(colores[i]+1):\n",
        "    datos = leerArchivo(paths[i], str(num_archivo))['EEG.O1'].to_list()\n",
        "    frecuencia, spectrum = signal.periodogram(datos, 128)"
      ],
      "execution_count": null,
      "outputs": []
    },
    {
      "cell_type": "code",
      "metadata": {
        "colab": {
          "base_uri": "https://localhost:8080/",
          "height": 163
        },
        "id": "M0hcxoxovYM1",
        "outputId": "6384ee0b-0bcf-4376-e59d-97dbc793aeed"
      },
      "source": [
        "np.where(frecuencia<6.5)"
      ],
      "execution_count": null,
      "outputs": [
        {
          "output_type": "error",
          "ename": "TypeError",
          "evalue": "ignored",
          "traceback": [
            "\u001b[0;31m---------------------------------------------------------------------------\u001b[0m",
            "\u001b[0;31mTypeError\u001b[0m                                 Traceback (most recent call last)",
            "\u001b[0;32m<ipython-input-174-262fb9a16f32>\u001b[0m in \u001b[0;36m<module>\u001b[0;34m()\u001b[0m\n\u001b[0;32m----> 1\u001b[0;31m \u001b[0mnp\u001b[0m\u001b[0;34m.\u001b[0m\u001b[0mwhere\u001b[0m\u001b[0;34m(\u001b[0m\u001b[0mfrecuencia\u001b[0m\u001b[0;34m<\u001b[0m\u001b[0;36m6.5\u001b[0m\u001b[0;34m)\u001b[0m\u001b[0;34m\u001b[0m\u001b[0;34m\u001b[0m\u001b[0m\n\u001b[0m",
            "\u001b[0;31mTypeError\u001b[0m: '<' not supported between instances of 'tuple' and 'float'"
          ]
        }
      ]
    }
  ]
}
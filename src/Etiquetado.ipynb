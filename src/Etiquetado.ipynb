{
 "cells": [
  {
   "cell_type": "code",
   "execution_count": 1,
   "metadata": {
    "id": "m-1Fg-B1opuK"
   },
   "outputs": [
    {
     "output_type": "stream",
     "name": "stdout",
     "text": [
      "1.2.3\n"
     ]
    }
   ],
   "source": [
    "import pandas as pd\n",
    "print(pd.__version__)"
   ]
  },
  {
   "cell_type": "code",
   "execution_count": 6,
   "metadata": {},
   "outputs": [
    {
     "output_type": "stream",
     "name": "stdout",
     "text": [
      "c:\\Users\\kpam2\\OneDrive\\Documents\\EEG\\Datos\\SenalesEEG\\src\n"
     ]
    }
   ],
   "source": [
    "import os\n",
    "CURR_DIR = os.getcwd()\n",
    "print(CURR_DIR)"
   ]
  },
  {
   "cell_type": "code",
   "execution_count": 3,
   "metadata": {
    "id": "61vdHncGpT1U"
   },
   "outputs": [
    {
     "output_type": "error",
     "ename": "FileNotFoundError",
     "evalue": "[Errno 2] No such file or directory: 'Frecuencia1.csv'",
     "traceback": [
      "\u001b[1;31m---------------------------------------------------------------------------\u001b[0m",
      "\u001b[1;31mFileNotFoundError\u001b[0m                         Traceback (most recent call last)",
      "\u001b[1;32m<ipython-input-3-b6bbde252804>\u001b[0m in \u001b[0;36m<module>\u001b[1;34m\u001b[0m\n\u001b[1;32m----> 1\u001b[1;33m \u001b[0mfrec1\u001b[0m \u001b[1;33m=\u001b[0m \u001b[0mpd\u001b[0m\u001b[1;33m.\u001b[0m\u001b[0mread_csv\u001b[0m\u001b[1;33m(\u001b[0m\u001b[1;34m\"Frecuencia1.csv\"\u001b[0m\u001b[1;33m)\u001b[0m\u001b[1;33m\u001b[0m\u001b[1;33m\u001b[0m\u001b[0m\n\u001b[0m",
      "\u001b[1;32m~\\AppData\\Local\\Programs\\Python\\Python39\\lib\\site-packages\\pandas\\io\\parsers.py\u001b[0m in \u001b[0;36mread_csv\u001b[1;34m(filepath_or_buffer, sep, delimiter, header, names, index_col, usecols, squeeze, prefix, mangle_dupe_cols, dtype, engine, converters, true_values, false_values, skipinitialspace, skiprows, skipfooter, nrows, na_values, keep_default_na, na_filter, verbose, skip_blank_lines, parse_dates, infer_datetime_format, keep_date_col, date_parser, dayfirst, cache_dates, iterator, chunksize, compression, thousands, decimal, lineterminator, quotechar, quoting, doublequote, escapechar, comment, encoding, dialect, error_bad_lines, warn_bad_lines, delim_whitespace, low_memory, memory_map, float_precision, storage_options)\u001b[0m\n\u001b[0;32m    608\u001b[0m     \u001b[0mkwds\u001b[0m\u001b[1;33m.\u001b[0m\u001b[0mupdate\u001b[0m\u001b[1;33m(\u001b[0m\u001b[0mkwds_defaults\u001b[0m\u001b[1;33m)\u001b[0m\u001b[1;33m\u001b[0m\u001b[1;33m\u001b[0m\u001b[0m\n\u001b[0;32m    609\u001b[0m \u001b[1;33m\u001b[0m\u001b[0m\n\u001b[1;32m--> 610\u001b[1;33m     \u001b[1;32mreturn\u001b[0m \u001b[0m_read\u001b[0m\u001b[1;33m(\u001b[0m\u001b[0mfilepath_or_buffer\u001b[0m\u001b[1;33m,\u001b[0m \u001b[0mkwds\u001b[0m\u001b[1;33m)\u001b[0m\u001b[1;33m\u001b[0m\u001b[1;33m\u001b[0m\u001b[0m\n\u001b[0m\u001b[0;32m    611\u001b[0m \u001b[1;33m\u001b[0m\u001b[0m\n\u001b[0;32m    612\u001b[0m \u001b[1;33m\u001b[0m\u001b[0m\n",
      "\u001b[1;32m~\\AppData\\Local\\Programs\\Python\\Python39\\lib\\site-packages\\pandas\\io\\parsers.py\u001b[0m in \u001b[0;36m_read\u001b[1;34m(filepath_or_buffer, kwds)\u001b[0m\n\u001b[0;32m    460\u001b[0m \u001b[1;33m\u001b[0m\u001b[0m\n\u001b[0;32m    461\u001b[0m     \u001b[1;31m# Create the parser.\u001b[0m\u001b[1;33m\u001b[0m\u001b[1;33m\u001b[0m\u001b[1;33m\u001b[0m\u001b[0m\n\u001b[1;32m--> 462\u001b[1;33m     \u001b[0mparser\u001b[0m \u001b[1;33m=\u001b[0m \u001b[0mTextFileReader\u001b[0m\u001b[1;33m(\u001b[0m\u001b[0mfilepath_or_buffer\u001b[0m\u001b[1;33m,\u001b[0m \u001b[1;33m**\u001b[0m\u001b[0mkwds\u001b[0m\u001b[1;33m)\u001b[0m\u001b[1;33m\u001b[0m\u001b[1;33m\u001b[0m\u001b[0m\n\u001b[0m\u001b[0;32m    463\u001b[0m \u001b[1;33m\u001b[0m\u001b[0m\n\u001b[0;32m    464\u001b[0m     \u001b[1;32mif\u001b[0m \u001b[0mchunksize\u001b[0m \u001b[1;32mor\u001b[0m \u001b[0miterator\u001b[0m\u001b[1;33m:\u001b[0m\u001b[1;33m\u001b[0m\u001b[1;33m\u001b[0m\u001b[0m\n",
      "\u001b[1;32m~\\AppData\\Local\\Programs\\Python\\Python39\\lib\\site-packages\\pandas\\io\\parsers.py\u001b[0m in \u001b[0;36m__init__\u001b[1;34m(self, f, engine, **kwds)\u001b[0m\n\u001b[0;32m    817\u001b[0m             \u001b[0mself\u001b[0m\u001b[1;33m.\u001b[0m\u001b[0moptions\u001b[0m\u001b[1;33m[\u001b[0m\u001b[1;34m\"has_index_names\"\u001b[0m\u001b[1;33m]\u001b[0m \u001b[1;33m=\u001b[0m \u001b[0mkwds\u001b[0m\u001b[1;33m[\u001b[0m\u001b[1;34m\"has_index_names\"\u001b[0m\u001b[1;33m]\u001b[0m\u001b[1;33m\u001b[0m\u001b[1;33m\u001b[0m\u001b[0m\n\u001b[0;32m    818\u001b[0m \u001b[1;33m\u001b[0m\u001b[0m\n\u001b[1;32m--> 819\u001b[1;33m         \u001b[0mself\u001b[0m\u001b[1;33m.\u001b[0m\u001b[0m_engine\u001b[0m \u001b[1;33m=\u001b[0m \u001b[0mself\u001b[0m\u001b[1;33m.\u001b[0m\u001b[0m_make_engine\u001b[0m\u001b[1;33m(\u001b[0m\u001b[0mself\u001b[0m\u001b[1;33m.\u001b[0m\u001b[0mengine\u001b[0m\u001b[1;33m)\u001b[0m\u001b[1;33m\u001b[0m\u001b[1;33m\u001b[0m\u001b[0m\n\u001b[0m\u001b[0;32m    820\u001b[0m \u001b[1;33m\u001b[0m\u001b[0m\n\u001b[0;32m    821\u001b[0m     \u001b[1;32mdef\u001b[0m \u001b[0mclose\u001b[0m\u001b[1;33m(\u001b[0m\u001b[0mself\u001b[0m\u001b[1;33m)\u001b[0m\u001b[1;33m:\u001b[0m\u001b[1;33m\u001b[0m\u001b[1;33m\u001b[0m\u001b[0m\n",
      "\u001b[1;32m~\\AppData\\Local\\Programs\\Python\\Python39\\lib\\site-packages\\pandas\\io\\parsers.py\u001b[0m in \u001b[0;36m_make_engine\u001b[1;34m(self, engine)\u001b[0m\n\u001b[0;32m   1048\u001b[0m             )\n\u001b[0;32m   1049\u001b[0m         \u001b[1;31m# error: Too many arguments for \"ParserBase\"\u001b[0m\u001b[1;33m\u001b[0m\u001b[1;33m\u001b[0m\u001b[1;33m\u001b[0m\u001b[0m\n\u001b[1;32m-> 1050\u001b[1;33m         \u001b[1;32mreturn\u001b[0m \u001b[0mmapping\u001b[0m\u001b[1;33m[\u001b[0m\u001b[0mengine\u001b[0m\u001b[1;33m]\u001b[0m\u001b[1;33m(\u001b[0m\u001b[0mself\u001b[0m\u001b[1;33m.\u001b[0m\u001b[0mf\u001b[0m\u001b[1;33m,\u001b[0m \u001b[1;33m**\u001b[0m\u001b[0mself\u001b[0m\u001b[1;33m.\u001b[0m\u001b[0moptions\u001b[0m\u001b[1;33m)\u001b[0m  \u001b[1;31m# type: ignore[call-arg]\u001b[0m\u001b[1;33m\u001b[0m\u001b[1;33m\u001b[0m\u001b[0m\n\u001b[0m\u001b[0;32m   1051\u001b[0m \u001b[1;33m\u001b[0m\u001b[0m\n\u001b[0;32m   1052\u001b[0m     \u001b[1;32mdef\u001b[0m \u001b[0m_failover_to_python\u001b[0m\u001b[1;33m(\u001b[0m\u001b[0mself\u001b[0m\u001b[1;33m)\u001b[0m\u001b[1;33m:\u001b[0m\u001b[1;33m\u001b[0m\u001b[1;33m\u001b[0m\u001b[0m\n",
      "\u001b[1;32m~\\AppData\\Local\\Programs\\Python\\Python39\\lib\\site-packages\\pandas\\io\\parsers.py\u001b[0m in \u001b[0;36m__init__\u001b[1;34m(self, src, **kwds)\u001b[0m\n\u001b[0;32m   1865\u001b[0m \u001b[1;33m\u001b[0m\u001b[0m\n\u001b[0;32m   1866\u001b[0m         \u001b[1;31m# open handles\u001b[0m\u001b[1;33m\u001b[0m\u001b[1;33m\u001b[0m\u001b[1;33m\u001b[0m\u001b[0m\n\u001b[1;32m-> 1867\u001b[1;33m         \u001b[0mself\u001b[0m\u001b[1;33m.\u001b[0m\u001b[0m_open_handles\u001b[0m\u001b[1;33m(\u001b[0m\u001b[0msrc\u001b[0m\u001b[1;33m,\u001b[0m \u001b[0mkwds\u001b[0m\u001b[1;33m)\u001b[0m\u001b[1;33m\u001b[0m\u001b[1;33m\u001b[0m\u001b[0m\n\u001b[0m\u001b[0;32m   1868\u001b[0m         \u001b[1;32massert\u001b[0m \u001b[0mself\u001b[0m\u001b[1;33m.\u001b[0m\u001b[0mhandles\u001b[0m \u001b[1;32mis\u001b[0m \u001b[1;32mnot\u001b[0m \u001b[1;32mNone\u001b[0m\u001b[1;33m\u001b[0m\u001b[1;33m\u001b[0m\u001b[0m\n\u001b[0;32m   1869\u001b[0m         \u001b[1;32mfor\u001b[0m \u001b[0mkey\u001b[0m \u001b[1;32min\u001b[0m \u001b[1;33m(\u001b[0m\u001b[1;34m\"storage_options\"\u001b[0m\u001b[1;33m,\u001b[0m \u001b[1;34m\"encoding\"\u001b[0m\u001b[1;33m,\u001b[0m \u001b[1;34m\"memory_map\"\u001b[0m\u001b[1;33m,\u001b[0m \u001b[1;34m\"compression\"\u001b[0m\u001b[1;33m)\u001b[0m\u001b[1;33m:\u001b[0m\u001b[1;33m\u001b[0m\u001b[1;33m\u001b[0m\u001b[0m\n",
      "\u001b[1;32m~\\AppData\\Local\\Programs\\Python\\Python39\\lib\\site-packages\\pandas\\io\\parsers.py\u001b[0m in \u001b[0;36m_open_handles\u001b[1;34m(self, src, kwds)\u001b[0m\n\u001b[0;32m   1360\u001b[0m         \u001b[0mLet\u001b[0m \u001b[0mthe\u001b[0m \u001b[0mreaders\u001b[0m \u001b[0mopen\u001b[0m \u001b[0mIOHanldes\u001b[0m \u001b[0mafter\u001b[0m \u001b[0mthey\u001b[0m \u001b[0mare\u001b[0m \u001b[0mdone\u001b[0m \u001b[1;32mwith\u001b[0m \u001b[0mtheir\u001b[0m \u001b[0mpotential\u001b[0m \u001b[0mraises\u001b[0m\u001b[1;33m.\u001b[0m\u001b[1;33m\u001b[0m\u001b[1;33m\u001b[0m\u001b[0m\n\u001b[0;32m   1361\u001b[0m         \"\"\"\n\u001b[1;32m-> 1362\u001b[1;33m         self.handles = get_handle(\n\u001b[0m\u001b[0;32m   1363\u001b[0m             \u001b[0msrc\u001b[0m\u001b[1;33m,\u001b[0m\u001b[1;33m\u001b[0m\u001b[1;33m\u001b[0m\u001b[0m\n\u001b[0;32m   1364\u001b[0m             \u001b[1;34m\"r\"\u001b[0m\u001b[1;33m,\u001b[0m\u001b[1;33m\u001b[0m\u001b[1;33m\u001b[0m\u001b[0m\n",
      "\u001b[1;32m~\\AppData\\Local\\Programs\\Python\\Python39\\lib\\site-packages\\pandas\\io\\common.py\u001b[0m in \u001b[0;36mget_handle\u001b[1;34m(path_or_buf, mode, encoding, compression, memory_map, is_text, errors, storage_options)\u001b[0m\n\u001b[0;32m    640\u001b[0m                 \u001b[0merrors\u001b[0m \u001b[1;33m=\u001b[0m \u001b[1;34m\"replace\"\u001b[0m\u001b[1;33m\u001b[0m\u001b[1;33m\u001b[0m\u001b[0m\n\u001b[0;32m    641\u001b[0m             \u001b[1;31m# Encoding\u001b[0m\u001b[1;33m\u001b[0m\u001b[1;33m\u001b[0m\u001b[1;33m\u001b[0m\u001b[0m\n\u001b[1;32m--> 642\u001b[1;33m             handle = open(\n\u001b[0m\u001b[0;32m    643\u001b[0m                 \u001b[0mhandle\u001b[0m\u001b[1;33m,\u001b[0m\u001b[1;33m\u001b[0m\u001b[1;33m\u001b[0m\u001b[0m\n\u001b[0;32m    644\u001b[0m                 \u001b[0mioargs\u001b[0m\u001b[1;33m.\u001b[0m\u001b[0mmode\u001b[0m\u001b[1;33m,\u001b[0m\u001b[1;33m\u001b[0m\u001b[1;33m\u001b[0m\u001b[0m\n",
      "\u001b[1;31mFileNotFoundError\u001b[0m: [Errno 2] No such file or directory: 'Frecuencia1.csv'"
     ]
    }
   ],
   "source": [
    "frec1 = pd.read_csv(\"Frecuencia1.csv\")"
   ]
  },
  {
   "cell_type": "code",
   "execution_count": 201,
   "metadata": {
    "id": "8LBzJbhwxiPH"
   },
   "outputs": [],
   "source": [
    "index = []\r\n",
    "for a in range(89721):\r\n",
    "  index.append(a+1)"
   ]
  },
  {
   "cell_type": "code",
   "execution_count": 202,
   "metadata": {
    "id": "texfX29PyYHX"
   },
   "outputs": [],
   "source": [
    "frec1['index'] = index"
   ]
  },
  {
   "cell_type": "code",
   "execution_count": 223,
   "metadata": {
    "id": "8wdaizgIqHy_"
   },
   "outputs": [],
   "source": [
    "marker = list(frec1.MarkerValueInt)\r\n",
    "import math"
   ]
  },
  {
   "cell_type": "code",
   "execution_count": 224,
   "metadata": {
    "colab": {
     "base_uri": "https://localhost:8080/"
    },
    "id": "QCLGBIczrmsL",
    "outputId": "c6ad34cd-ed86-4aa9-a6cf-86dd592fa59f"
   },
   "outputs": [
    {
     "data": {
      "text/plain": [
       "89721"
      ]
     },
     "execution_count": 224,
     "metadata": {
      "tags": []
     },
     "output_type": "execute_result"
    }
   ],
   "source": [
    "etiquetas = []\r\n",
    "for i in range(len(marker)-1):\r\n",
    "  if (math.isnan(marker[i])):\r\n",
    "    marker[i] = 'nan'\r\n",
    "len(marker)"
   ]
  },
  {
   "cell_type": "code",
   "execution_count": 255,
   "metadata": {
    "id": "rcjMhVhHHWjv"
   },
   "outputs": [],
   "source": [
    "marker1 = []\r\n",
    "rojo = False\r\n",
    "azul = False\r\n",
    "verde = False\r\n",
    "morado = False\r\n",
    "baseline = False\r\n",
    "for i in range(len(marker)):\r\n",
    "  if (marker[i] == 'nan'):\r\n",
    "    if (rojo):\r\n",
    "      marker1.append(1)\r\n",
    "    elif (azul):\r\n",
    "      marker1.append(2)\r\n",
    "    elif (verde):\r\n",
    "      marker1.append(3)\r\n",
    "    elif (morado):\r\n",
    "      marker1.append(4)\r\n",
    "    elif (baseline):\r\n",
    "      marker1.append(5)\r\n",
    "    else:\r\n",
    "      marker1.append('nan')\r\n",
    "  else:\r\n",
    "    if (marker[i] == 1):\r\n",
    "      rojo = True\r\n",
    "      azul = False\r\n",
    "      verde = False\r\n",
    "      morado = False\r\n",
    "      baseline = False\r\n",
    "      marker1.append(marker[i])\r\n",
    "    elif (marker[i] == 2):\r\n",
    "      rojo = False\r\n",
    "      azul = True\r\n",
    "      verde = False\r\n",
    "      morado = False\r\n",
    "      baseline = False\r\n",
    "      marker1.append(marker[i])\r\n",
    "    elif (marker[i] == 3):\r\n",
    "      rojo = False\r\n",
    "      azul = False\r\n",
    "      verde = True\r\n",
    "      morado = False\r\n",
    "      baseline = False\r\n",
    "      marker1.append(marker[i])\r\n",
    "    elif (marker[i] == 4):\r\n",
    "      rojo = False\r\n",
    "      azul = False\r\n",
    "      verde = False\r\n",
    "      morado = True\r\n",
    "      baseline = False\r\n",
    "      marker1.append(marker[i])\r\n",
    "    elif (marker[i] == 5):\r\n",
    "      rojo = False\r\n",
    "      azul = False\r\n",
    "      verde = False\r\n",
    "      morado = False\r\n",
    "      baseline = True\r\n",
    "      marker1.append(marker[i])\r\n",
    "    elif (marker[i] == 6):\r\n",
    "      if (rojo):\r\n",
    "        marker1.append(1)\r\n",
    "      elif (azul):\r\n",
    "        marker1.append(2)\r\n",
    "      elif (verde):\r\n",
    "        marker1.append(3)\r\n",
    "      elif (morado):\r\n",
    "        marker1.append(4)\r\n",
    "      elif (baseline):\r\n",
    "        marker1.append(5)\r\n",
    "  \r\n",
    "marker1.append('end')\r\n"
   ]
  },
  {
   "cell_type": "code",
   "execution_count": 256,
   "metadata": {
    "colab": {
     "base_uri": "https://localhost:8080/"
    },
    "id": "XYcwH-i0HrI0",
    "outputId": "b1f41da4-8ba0-472b-faa6-eb4bbc294791"
   },
   "outputs": [
    {
     "data": {
      "text/plain": [
       "89721"
      ]
     },
     "execution_count": 256,
     "metadata": {
      "tags": []
     },
     "output_type": "execute_result"
    }
   ],
   "source": [
    "len(marker1)"
   ]
  },
  {
   "cell_type": "code",
   "execution_count": 257,
   "metadata": {
    "id": "-6LoUCBSH3bk"
   },
   "outputs": [],
   "source": [
    "frec1['MARKERS'] = marker1"
   ]
  },
  {
   "cell_type": "code",
   "execution_count": 258,
   "metadata": {
    "colab": {
     "base_uri": "https://localhost:8080/",
     "height": 439
    },
    "id": "cAeg997DTXBD",
    "outputId": "90d875fd-2815-4529-c879-1571c9148795"
   },
   "outputs": [
    {
     "data": {
      "text/html": [
       "<div>\n",
       "<style scoped>\n",
       "    .dataframe tbody tr th:only-of-type {\n",
       "        vertical-align: middle;\n",
       "    }\n",
       "\n",
       "    .dataframe tbody tr th {\n",
       "        vertical-align: top;\n",
       "    }\n",
       "\n",
       "    .dataframe thead th {\n",
       "        text-align: right;\n",
       "    }\n",
       "</style>\n",
       "<table border=\"1\" class=\"dataframe\">\n",
       "  <thead>\n",
       "    <tr style=\"text-align: right;\">\n",
       "      <th></th>\n",
       "      <th>Timestamp</th>\n",
       "      <th>EEG.Counter</th>\n",
       "      <th>EEG.Interpolated</th>\n",
       "      <th>EEG.AF3</th>\n",
       "      <th>EEG.F7</th>\n",
       "      <th>EEG.F3</th>\n",
       "      <th>EEG.FC5</th>\n",
       "      <th>EEG.T7</th>\n",
       "      <th>EEG.P7</th>\n",
       "      <th>EEG.O1</th>\n",
       "      <th>EEG.O2</th>\n",
       "      <th>EEG.P8</th>\n",
       "      <th>EEG.T8</th>\n",
       "      <th>EEG.FC6</th>\n",
       "      <th>EEG.F4</th>\n",
       "      <th>EEG.F8</th>\n",
       "      <th>EEG.AF4</th>\n",
       "      <th>EEG.RawCq</th>\n",
       "      <th>MarkerValueInt</th>\n",
       "      <th>index</th>\n",
       "      <th>MARKERS</th>\n",
       "    </tr>\n",
       "  </thead>\n",
       "  <tbody>\n",
       "    <tr>\n",
       "      <th>0</th>\n",
       "      <td>1606505822</td>\n",
       "      <td>62</td>\n",
       "      <td>0</td>\n",
       "      <td>4166.538574</td>\n",
       "      <td>4169.102539</td>\n",
       "      <td>4179.230957</td>\n",
       "      <td>4174.358887</td>\n",
       "      <td>4164.743652</td>\n",
       "      <td>4170.769043</td>\n",
       "      <td>4157.051270</td>\n",
       "      <td>4172.179688</td>\n",
       "      <td>4186.025879</td>\n",
       "      <td>4189.358887</td>\n",
       "      <td>4124.487305</td>\n",
       "      <td>4168.846191</td>\n",
       "      <td>4146.153809</td>\n",
       "      <td>4187.563965</td>\n",
       "      <td>0.0</td>\n",
       "      <td>NaN</td>\n",
       "      <td>1</td>\n",
       "      <td>nan</td>\n",
       "    </tr>\n",
       "    <tr>\n",
       "      <th>1</th>\n",
       "      <td>1606505822</td>\n",
       "      <td>63</td>\n",
       "      <td>0</td>\n",
       "      <td>4170.769043</td>\n",
       "      <td>4172.307617</td>\n",
       "      <td>4178.461426</td>\n",
       "      <td>4175.256348</td>\n",
       "      <td>4173.205078</td>\n",
       "      <td>4177.692383</td>\n",
       "      <td>4160.512695</td>\n",
       "      <td>4169.871582</td>\n",
       "      <td>4191.410156</td>\n",
       "      <td>4215.000000</td>\n",
       "      <td>4132.692383</td>\n",
       "      <td>4164.102539</td>\n",
       "      <td>4139.743652</td>\n",
       "      <td>4188.846191</td>\n",
       "      <td>0.0</td>\n",
       "      <td>NaN</td>\n",
       "      <td>2</td>\n",
       "      <td>nan</td>\n",
       "    </tr>\n",
       "    <tr>\n",
       "      <th>2</th>\n",
       "      <td>1606505822</td>\n",
       "      <td>64</td>\n",
       "      <td>0</td>\n",
       "      <td>4178.589844</td>\n",
       "      <td>4180.128418</td>\n",
       "      <td>4178.333496</td>\n",
       "      <td>4185.641113</td>\n",
       "      <td>4196.794922</td>\n",
       "      <td>4191.282227</td>\n",
       "      <td>4171.538574</td>\n",
       "      <td>4182.820313</td>\n",
       "      <td>4188.205078</td>\n",
       "      <td>4206.025879</td>\n",
       "      <td>4146.410156</td>\n",
       "      <td>4169.230957</td>\n",
       "      <td>4143.717773</td>\n",
       "      <td>4198.205078</td>\n",
       "      <td>1083.0</td>\n",
       "      <td>NaN</td>\n",
       "      <td>3</td>\n",
       "      <td>nan</td>\n",
       "    </tr>\n",
       "    <tr>\n",
       "      <th>3</th>\n",
       "      <td>1606505822</td>\n",
       "      <td>65</td>\n",
       "      <td>0</td>\n",
       "      <td>4176.794922</td>\n",
       "      <td>4169.615234</td>\n",
       "      <td>4178.077148</td>\n",
       "      <td>4184.871582</td>\n",
       "      <td>4168.589844</td>\n",
       "      <td>4178.077148</td>\n",
       "      <td>4167.051270</td>\n",
       "      <td>4177.563965</td>\n",
       "      <td>4169.230957</td>\n",
       "      <td>4187.436035</td>\n",
       "      <td>4130.641113</td>\n",
       "      <td>4173.077148</td>\n",
       "      <td>4147.436035</td>\n",
       "      <td>4187.948730</td>\n",
       "      <td>3407.0</td>\n",
       "      <td>NaN</td>\n",
       "      <td>4</td>\n",
       "      <td>nan</td>\n",
       "    </tr>\n",
       "    <tr>\n",
       "      <th>4</th>\n",
       "      <td>1606505822</td>\n",
       "      <td>66</td>\n",
       "      <td>0</td>\n",
       "      <td>4173.717773</td>\n",
       "      <td>4166.538574</td>\n",
       "      <td>4178.077148</td>\n",
       "      <td>4172.820313</td>\n",
       "      <td>4162.820313</td>\n",
       "      <td>4167.820313</td>\n",
       "      <td>4159.358887</td>\n",
       "      <td>4166.666504</td>\n",
       "      <td>4162.820313</td>\n",
       "      <td>4207.563965</td>\n",
       "      <td>4120.256348</td>\n",
       "      <td>4171.282227</td>\n",
       "      <td>4146.410156</td>\n",
       "      <td>4189.871582</td>\n",
       "      <td>3216.0</td>\n",
       "      <td>NaN</td>\n",
       "      <td>5</td>\n",
       "      <td>nan</td>\n",
       "    </tr>\n",
       "    <tr>\n",
       "      <th>...</th>\n",
       "      <td>...</td>\n",
       "      <td>...</td>\n",
       "      <td>...</td>\n",
       "      <td>...</td>\n",
       "      <td>...</td>\n",
       "      <td>...</td>\n",
       "      <td>...</td>\n",
       "      <td>...</td>\n",
       "      <td>...</td>\n",
       "      <td>...</td>\n",
       "      <td>...</td>\n",
       "      <td>...</td>\n",
       "      <td>...</td>\n",
       "      <td>...</td>\n",
       "      <td>...</td>\n",
       "      <td>...</td>\n",
       "      <td>...</td>\n",
       "      <td>...</td>\n",
       "      <td>...</td>\n",
       "      <td>...</td>\n",
       "      <td>...</td>\n",
       "    </tr>\n",
       "    <tr>\n",
       "      <th>89716</th>\n",
       "      <td>1606506531</td>\n",
       "      <td>26</td>\n",
       "      <td>0</td>\n",
       "      <td>4139.230957</td>\n",
       "      <td>4159.615234</td>\n",
       "      <td>4151.666504</td>\n",
       "      <td>4163.717773</td>\n",
       "      <td>4167.563965</td>\n",
       "      <td>4180.769043</td>\n",
       "      <td>4177.692383</td>\n",
       "      <td>4157.179688</td>\n",
       "      <td>4137.692383</td>\n",
       "      <td>4131.025879</td>\n",
       "      <td>4107.692383</td>\n",
       "      <td>4121.666504</td>\n",
       "      <td>4059.358887</td>\n",
       "      <td>4095.897461</td>\n",
       "      <td>0.0</td>\n",
       "      <td>NaN</td>\n",
       "      <td>89717</td>\n",
       "      <td>3</td>\n",
       "    </tr>\n",
       "    <tr>\n",
       "      <th>89717</th>\n",
       "      <td>1606506531</td>\n",
       "      <td>27</td>\n",
       "      <td>0</td>\n",
       "      <td>4135.512695</td>\n",
       "      <td>4167.820313</td>\n",
       "      <td>4152.051270</td>\n",
       "      <td>4158.461426</td>\n",
       "      <td>4203.077148</td>\n",
       "      <td>4193.333496</td>\n",
       "      <td>4184.615234</td>\n",
       "      <td>4168.077148</td>\n",
       "      <td>4147.563965</td>\n",
       "      <td>4146.282227</td>\n",
       "      <td>4117.051270</td>\n",
       "      <td>4122.307617</td>\n",
       "      <td>4061.281982</td>\n",
       "      <td>4094.743652</td>\n",
       "      <td>0.0</td>\n",
       "      <td>NaN</td>\n",
       "      <td>89718</td>\n",
       "      <td>3</td>\n",
       "    </tr>\n",
       "    <tr>\n",
       "      <th>89718</th>\n",
       "      <td>1606506531</td>\n",
       "      <td>28</td>\n",
       "      <td>0</td>\n",
       "      <td>4136.153809</td>\n",
       "      <td>4159.743652</td>\n",
       "      <td>4153.974121</td>\n",
       "      <td>4158.077148</td>\n",
       "      <td>4183.974121</td>\n",
       "      <td>4190.384766</td>\n",
       "      <td>4175.897461</td>\n",
       "      <td>4168.589844</td>\n",
       "      <td>4149.102539</td>\n",
       "      <td>4148.461426</td>\n",
       "      <td>4118.205078</td>\n",
       "      <td>4115.641113</td>\n",
       "      <td>4062.435791</td>\n",
       "      <td>4088.461426</td>\n",
       "      <td>0.0</td>\n",
       "      <td>NaN</td>\n",
       "      <td>89719</td>\n",
       "      <td>3</td>\n",
       "    </tr>\n",
       "    <tr>\n",
       "      <th>89719</th>\n",
       "      <td>1606506531</td>\n",
       "      <td>29</td>\n",
       "      <td>0</td>\n",
       "      <td>4135.128418</td>\n",
       "      <td>4152.948730</td>\n",
       "      <td>4151.538574</td>\n",
       "      <td>4161.282227</td>\n",
       "      <td>4166.153809</td>\n",
       "      <td>4184.743652</td>\n",
       "      <td>4167.436035</td>\n",
       "      <td>4174.102539</td>\n",
       "      <td>4142.563965</td>\n",
       "      <td>4141.922852</td>\n",
       "      <td>4104.358887</td>\n",
       "      <td>4108.077148</td>\n",
       "      <td>4062.948730</td>\n",
       "      <td>4083.076904</td>\n",
       "      <td>0.0</td>\n",
       "      <td>NaN</td>\n",
       "      <td>89720</td>\n",
       "      <td>3</td>\n",
       "    </tr>\n",
       "    <tr>\n",
       "      <th>89720</th>\n",
       "      <td>1606506531</td>\n",
       "      <td>30</td>\n",
       "      <td>0</td>\n",
       "      <td>4137.051270</td>\n",
       "      <td>4163.077148</td>\n",
       "      <td>4152.051270</td>\n",
       "      <td>4168.846191</td>\n",
       "      <td>4181.025879</td>\n",
       "      <td>4181.282227</td>\n",
       "      <td>4171.282227</td>\n",
       "      <td>4183.077148</td>\n",
       "      <td>4144.743652</td>\n",
       "      <td>4138.461426</td>\n",
       "      <td>4103.333496</td>\n",
       "      <td>4110.769043</td>\n",
       "      <td>4054.871826</td>\n",
       "      <td>4083.589844</td>\n",
       "      <td>0.0</td>\n",
       "      <td>NaN</td>\n",
       "      <td>89721</td>\n",
       "      <td>end</td>\n",
       "    </tr>\n",
       "  </tbody>\n",
       "</table>\n",
       "<p>89721 rows × 21 columns</p>\n",
       "</div>"
      ],
      "text/plain": [
       "        Timestamp  EEG.Counter  EEG.Interpolated  ...  MarkerValueInt  index  MARKERS\n",
       "0      1606505822           62                 0  ...             NaN      1      nan\n",
       "1      1606505822           63                 0  ...             NaN      2      nan\n",
       "2      1606505822           64                 0  ...             NaN      3      nan\n",
       "3      1606505822           65                 0  ...             NaN      4      nan\n",
       "4      1606505822           66                 0  ...             NaN      5      nan\n",
       "...           ...          ...               ...  ...             ...    ...      ...\n",
       "89716  1606506531           26                 0  ...             NaN  89717        3\n",
       "89717  1606506531           27                 0  ...             NaN  89718        3\n",
       "89718  1606506531           28                 0  ...             NaN  89719        3\n",
       "89719  1606506531           29                 0  ...             NaN  89720        3\n",
       "89720  1606506531           30                 0  ...             NaN  89721      end\n",
       "\n",
       "[89721 rows x 21 columns]"
      ]
     },
     "execution_count": 258,
     "metadata": {
      "tags": []
     },
     "output_type": "execute_result"
    }
   ],
   "source": [
    "frec1"
   ]
  },
  {
   "cell_type": "code",
   "execution_count": 259,
   "metadata": {
    "id": "OClLpbuqTnMh"
   },
   "outputs": [],
   "source": [
    "frec1.to_csv('Nuevo.csv')"
   ]
  },
  {
   "cell_type": "code",
   "execution_count": null,
   "metadata": {
    "id": "pX_VwpRFUF2h"
   },
   "outputs": [],
   "source": []
  }
 ],
 "metadata": {
  "colab": {
   "name": "Untitled1.ipynb",
   "provenance": []
  },
  "kernelspec": {
   "name": "python3",
   "display_name": "Python 3.9.1 64-bit",
   "metadata": {
    "interpreter": {
     "hash": "7ec4eee48a1b90125fedd080afd04f965bb6f28dbf2886da6c5cfcc343d0a26d"
    }
   }
  },
  "language_info": {
   "codemirror_mode": {
    "name": "ipython",
    "version": 3
   },
   "file_extension": ".py",
   "mimetype": "text/x-python",
   "name": "python",
   "nbconvert_exporter": "python",
   "pygments_lexer": "ipython3",
   "version": "3.9.1-final"
  }
 },
 "nbformat": 4,
 "nbformat_minor": 4
}
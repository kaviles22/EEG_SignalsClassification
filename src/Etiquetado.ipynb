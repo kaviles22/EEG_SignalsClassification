{
 "cells": [
  {
   "cell_type": "code",
   "execution_count": 199,
   "metadata": {
    "id": "m-1Fg-B1opuK"
   },
   "outputs": [],
   "source": [
    "import pandas as pd"
   ]
  },
  {
   "cell_type": "code",
   "execution_count": 200,
   "metadata": {
    "id": "61vdHncGpT1U"
   },
   "outputs": [],
   "source": [
    "frec1 = pd.read_csv(\"Frec1.csv\")"
   ]
  },
  {
   "cell_type": "code",
   "execution_count": 201,
   "metadata": {
    "id": "8LBzJbhwxiPH"
   },
   "outputs": [],
   "source": [
    "index = []\r\n",
    "for a in range(89721):\r\n",
    "  index.append(a+1)"
   ]
  },
  {
   "cell_type": "code",
   "execution_count": 202,
   "metadata": {
    "id": "texfX29PyYHX"
   },
   "outputs": [],
   "source": [
    "frec1['index'] = index"
   ]
  },
  {
   "cell_type": "code",
   "execution_count": 223,
   "metadata": {
    "id": "8wdaizgIqHy_"
   },
   "outputs": [],
   "source": [
    "marker = list(frec1.MarkerValueInt)\r\n",
    "import math"
   ]
  },
  {
   "cell_type": "code",
   "execution_count": 224,
   "metadata": {
    "colab": {
     "base_uri": "https://localhost:8080/"
    },
    "id": "QCLGBIczrmsL",
    "outputId": "c6ad34cd-ed86-4aa9-a6cf-86dd592fa59f"
   },
   "outputs": [
    {
     "data": {
      "text/plain": [
       "89721"
      ]
     },
     "execution_count": 224,
     "metadata": {
      "tags": []
     },
     "output_type": "execute_result"
    }
   ],
   "source": [
    "etiquetas = []\r\n",
    "for i in range(len(marker)-1):\r\n",
    "  if (math.isnan(marker[i])):\r\n",
    "    marker[i] = 'nan'\r\n",
    "len(marker)"
   ]
  },
  {
   "cell_type": "code",
   "execution_count": 255,
   "metadata": {
    "id": "rcjMhVhHHWjv"
   },
   "outputs": [],
   "source": [
    "marker1 = []\r\n",
    "rojo = False\r\n",
    "azul = False\r\n",
    "verde = False\r\n",
    "morado = False\r\n",
    "baseline = False\r\n",
    "for i in range(len(marker)):\r\n",
    "  if (marker[i] == 'nan'):\r\n",
    "    if (rojo):\r\n",
    "      marker1.append(1)\r\n",
    "    elif (azul):\r\n",
    "      marker1.append(2)\r\n",
    "    elif (verde):\r\n",
    "      marker1.append(3)\r\n",
    "    elif (morado):\r\n",
    "      marker1.append(4)\r\n",
    "    elif (baseline):\r\n",
    "      marker1.append(5)\r\n",
    "    else:\r\n",
    "      marker1.append('nan')\r\n",
    "  else:\r\n",
    "    if (marker[i] == 1):\r\n",
    "      rojo = True\r\n",
    "      azul = False\r\n",
    "      verde = False\r\n",
    "      morado = False\r\n",
    "      baseline = False\r\n",
    "      marker1.append(marker[i])\r\n",
    "    elif (marker[i] == 2):\r\n",
    "      rojo = False\r\n",
    "      azul = True\r\n",
    "      verde = False\r\n",
    "      morado = False\r\n",
    "      baseline = False\r\n",
    "      marker1.append(marker[i])\r\n",
    "    elif (marker[i] == 3):\r\n",
    "      rojo = False\r\n",
    "      azul = False\r\n",
    "      verde = True\r\n",
    "      morado = False\r\n",
    "      baseline = False\r\n",
    "      marker1.append(marker[i])\r\n",
    "    elif (marker[i] == 4):\r\n",
    "      rojo = False\r\n",
    "      azul = False\r\n",
    "      verde = False\r\n",
    "      morado = True\r\n",
    "      baseline = False\r\n",
    "      marker1.append(marker[i])\r\n",
    "    elif (marker[i] == 5):\r\n",
    "      rojo = False\r\n",
    "      azul = False\r\n",
    "      verde = False\r\n",
    "      morado = False\r\n",
    "      baseline = True\r\n",
    "      marker1.append(marker[i])\r\n",
    "    elif (marker[i] == 6):\r\n",
    "      if (rojo):\r\n",
    "        marker1.append(1)\r\n",
    "      elif (azul):\r\n",
    "        marker1.append(2)\r\n",
    "      elif (verde):\r\n",
    "        marker1.append(3)\r\n",
    "      elif (morado):\r\n",
    "        marker1.append(4)\r\n",
    "      elif (baseline):\r\n",
    "        marker1.append(5)\r\n",
    "  \r\n",
    "marker1.append('end')\r\n"
   ]
  },
  {
   "cell_type": "code",
   "execution_count": 256,
   "metadata": {
    "colab": {
     "base_uri": "https://localhost:8080/"
    },
    "id": "XYcwH-i0HrI0",
    "outputId": "b1f41da4-8ba0-472b-faa6-eb4bbc294791"
   },
   "outputs": [
    {
     "data": {
      "text/plain": [
       "89721"
      ]
     },
     "execution_count": 256,
     "metadata": {
      "tags": []
     },
     "output_type": "execute_result"
    }
   ],
   "source": [
    "len(marker1)"
   ]
  },
  {
   "cell_type": "code",
   "execution_count": 257,
   "metadata": {
    "id": "-6LoUCBSH3bk"
   },
   "outputs": [],
   "source": [
    "frec1['MARKERS'] = marker1"
   ]
  },
  {
   "cell_type": "code",
   "execution_count": 258,
   "metadata": {
    "colab": {
     "base_uri": "https://localhost:8080/",
     "height": 439
    },
    "id": "cAeg997DTXBD",
    "outputId": "90d875fd-2815-4529-c879-1571c9148795"
   },
   "outputs": [
    {
     "data": {
      "text/html": [
       "<div>\n",
       "<style scoped>\n",
       "    .dataframe tbody tr th:only-of-type {\n",
       "        vertical-align: middle;\n",
       "    }\n",
       "\n",
       "    .dataframe tbody tr th {\n",
       "        vertical-align: top;\n",
       "    }\n",
       "\n",
       "    .dataframe thead th {\n",
       "        text-align: right;\n",
       "    }\n",
       "</style>\n",
       "<table border=\"1\" class=\"dataframe\">\n",
       "  <thead>\n",
       "    <tr style=\"text-align: right;\">\n",
       "      <th></th>\n",
       "      <th>Timestamp</th>\n",
       "      <th>EEG.Counter</th>\n",
       "      <th>EEG.Interpolated</th>\n",
       "      <th>EEG.AF3</th>\n",
       "      <th>EEG.F7</th>\n",
       "      <th>EEG.F3</th>\n",
       "      <th>EEG.FC5</th>\n",
       "      <th>EEG.T7</th>\n",
       "      <th>EEG.P7</th>\n",
       "      <th>EEG.O1</th>\n",
       "      <th>EEG.O2</th>\n",
       "      <th>EEG.P8</th>\n",
       "      <th>EEG.T8</th>\n",
       "      <th>EEG.FC6</th>\n",
       "      <th>EEG.F4</th>\n",
       "      <th>EEG.F8</th>\n",
       "      <th>EEG.AF4</th>\n",
       "      <th>EEG.RawCq</th>\n",
       "      <th>MarkerValueInt</th>\n",
       "      <th>index</th>\n",
       "      <th>MARKERS</th>\n",
       "    </tr>\n",
       "  </thead>\n",
       "  <tbody>\n",
       "    <tr>\n",
       "      <th>0</th>\n",
       "      <td>1606505822</td>\n",
       "      <td>62</td>\n",
       "      <td>0</td>\n",
       "      <td>4166.538574</td>\n",
       "      <td>4169.102539</td>\n",
       "      <td>4179.230957</td>\n",
       "      <td>4174.358887</td>\n",
       "      <td>4164.743652</td>\n",
       "      <td>4170.769043</td>\n",
       "      <td>4157.051270</td>\n",
       "      <td>4172.179688</td>\n",
       "      <td>4186.025879</td>\n",
       "      <td>4189.358887</td>\n",
       "      <td>4124.487305</td>\n",
       "      <td>4168.846191</td>\n",
       "      <td>4146.153809</td>\n",
       "      <td>4187.563965</td>\n",
       "      <td>0.0</td>\n",
       "      <td>NaN</td>\n",
       "      <td>1</td>\n",
       "      <td>nan</td>\n",
       "    </tr>\n",
       "    <tr>\n",
       "      <th>1</th>\n",
       "      <td>1606505822</td>\n",
       "      <td>63</td>\n",
       "      <td>0</td>\n",
       "      <td>4170.769043</td>\n",
       "      <td>4172.307617</td>\n",
       "      <td>4178.461426</td>\n",
       "      <td>4175.256348</td>\n",
       "      <td>4173.205078</td>\n",
       "      <td>4177.692383</td>\n",
       "      <td>4160.512695</td>\n",
       "      <td>4169.871582</td>\n",
       "      <td>4191.410156</td>\n",
       "      <td>4215.000000</td>\n",
       "      <td>4132.692383</td>\n",
       "      <td>4164.102539</td>\n",
       "      <td>4139.743652</td>\n",
       "      <td>4188.846191</td>\n",
       "      <td>0.0</td>\n",
       "      <td>NaN</td>\n",
       "      <td>2</td>\n",
       "      <td>nan</td>\n",
       "    </tr>\n",
       "    <tr>\n",
       "      <th>2</th>\n",
       "      <td>1606505822</td>\n",
       "      <td>64</td>\n",
       "      <td>0</td>\n",
       "      <td>4178.589844</td>\n",
       "      <td>4180.128418</td>\n",
       "      <td>4178.333496</td>\n",
       "      <td>4185.641113</td>\n",
       "      <td>4196.794922</td>\n",
       "      <td>4191.282227</td>\n",
       "      <td>4171.538574</td>\n",
       "      <td>4182.820313</td>\n",
       "      <td>4188.205078</td>\n",
       "      <td>4206.025879</td>\n",
       "      <td>4146.410156</td>\n",
       "      <td>4169.230957</td>\n",
       "      <td>4143.717773</td>\n",
       "      <td>4198.205078</td>\n",
       "      <td>1083.0</td>\n",
       "      <td>NaN</td>\n",
       "      <td>3</td>\n",
       "      <td>nan</td>\n",
       "    </tr>\n",
       "    <tr>\n",
       "      <th>3</th>\n",
       "      <td>1606505822</td>\n",
       "      <td>65</td>\n",
       "      <td>0</td>\n",
       "      <td>4176.794922</td>\n",
       "      <td>4169.615234</td>\n",
       "      <td>4178.077148</td>\n",
       "      <td>4184.871582</td>\n",
       "      <td>4168.589844</td>\n",
       "      <td>4178.077148</td>\n",
       "      <td>4167.051270</td>\n",
       "      <td>4177.563965</td>\n",
       "      <td>4169.230957</td>\n",
       "      <td>4187.436035</td>\n",
       "      <td>4130.641113</td>\n",
       "      <td>4173.077148</td>\n",
       "      <td>4147.436035</td>\n",
       "      <td>4187.948730</td>\n",
       "      <td>3407.0</td>\n",
       "      <td>NaN</td>\n",
       "      <td>4</td>\n",
       "      <td>nan</td>\n",
       "    </tr>\n",
       "    <tr>\n",
       "      <th>4</th>\n",
       "      <td>1606505822</td>\n",
       "      <td>66</td>\n",
       "      <td>0</td>\n",
       "      <td>4173.717773</td>\n",
       "      <td>4166.538574</td>\n",
       "      <td>4178.077148</td>\n",
       "      <td>4172.820313</td>\n",
       "      <td>4162.820313</td>\n",
       "      <td>4167.820313</td>\n",
       "      <td>4159.358887</td>\n",
       "      <td>4166.666504</td>\n",
       "      <td>4162.820313</td>\n",
       "      <td>4207.563965</td>\n",
       "      <td>4120.256348</td>\n",
       "      <td>4171.282227</td>\n",
       "      <td>4146.410156</td>\n",
       "      <td>4189.871582</td>\n",
       "      <td>3216.0</td>\n",
       "      <td>NaN</td>\n",
       "      <td>5</td>\n",
       "      <td>nan</td>\n",
       "    </tr>\n",
       "    <tr>\n",
       "      <th>...</th>\n",
       "      <td>...</td>\n",
       "      <td>...</td>\n",
       "      <td>...</td>\n",
       "      <td>...</td>\n",
       "      <td>...</td>\n",
       "      <td>...</td>\n",
       "      <td>...</td>\n",
       "      <td>...</td>\n",
       "      <td>...</td>\n",
       "      <td>...</td>\n",
       "      <td>...</td>\n",
       "      <td>...</td>\n",
       "      <td>...</td>\n",
       "      <td>...</td>\n",
       "      <td>...</td>\n",
       "      <td>...</td>\n",
       "      <td>...</td>\n",
       "      <td>...</td>\n",
       "      <td>...</td>\n",
       "      <td>...</td>\n",
       "      <td>...</td>\n",
       "    </tr>\n",
       "    <tr>\n",
       "      <th>89716</th>\n",
       "      <td>1606506531</td>\n",
       "      <td>26</td>\n",
       "      <td>0</td>\n",
       "      <td>4139.230957</td>\n",
       "      <td>4159.615234</td>\n",
       "      <td>4151.666504</td>\n",
       "      <td>4163.717773</td>\n",
       "      <td>4167.563965</td>\n",
       "      <td>4180.769043</td>\n",
       "      <td>4177.692383</td>\n",
       "      <td>4157.179688</td>\n",
       "      <td>4137.692383</td>\n",
       "      <td>4131.025879</td>\n",
       "      <td>4107.692383</td>\n",
       "      <td>4121.666504</td>\n",
       "      <td>4059.358887</td>\n",
       "      <td>4095.897461</td>\n",
       "      <td>0.0</td>\n",
       "      <td>NaN</td>\n",
       "      <td>89717</td>\n",
       "      <td>3</td>\n",
       "    </tr>\n",
       "    <tr>\n",
       "      <th>89717</th>\n",
       "      <td>1606506531</td>\n",
       "      <td>27</td>\n",
       "      <td>0</td>\n",
       "      <td>4135.512695</td>\n",
       "      <td>4167.820313</td>\n",
       "      <td>4152.051270</td>\n",
       "      <td>4158.461426</td>\n",
       "      <td>4203.077148</td>\n",
       "      <td>4193.333496</td>\n",
       "      <td>4184.615234</td>\n",
       "      <td>4168.077148</td>\n",
       "      <td>4147.563965</td>\n",
       "      <td>4146.282227</td>\n",
       "      <td>4117.051270</td>\n",
       "      <td>4122.307617</td>\n",
       "      <td>4061.281982</td>\n",
       "      <td>4094.743652</td>\n",
       "      <td>0.0</td>\n",
       "      <td>NaN</td>\n",
       "      <td>89718</td>\n",
       "      <td>3</td>\n",
       "    </tr>\n",
       "    <tr>\n",
       "      <th>89718</th>\n",
       "      <td>1606506531</td>\n",
       "      <td>28</td>\n",
       "      <td>0</td>\n",
       "      <td>4136.153809</td>\n",
       "      <td>4159.743652</td>\n",
       "      <td>4153.974121</td>\n",
       "      <td>4158.077148</td>\n",
       "      <td>4183.974121</td>\n",
       "      <td>4190.384766</td>\n",
       "      <td>4175.897461</td>\n",
       "      <td>4168.589844</td>\n",
       "      <td>4149.102539</td>\n",
       "      <td>4148.461426</td>\n",
       "      <td>4118.205078</td>\n",
       "      <td>4115.641113</td>\n",
       "      <td>4062.435791</td>\n",
       "      <td>4088.461426</td>\n",
       "      <td>0.0</td>\n",
       "      <td>NaN</td>\n",
       "      <td>89719</td>\n",
       "      <td>3</td>\n",
       "    </tr>\n",
       "    <tr>\n",
       "      <th>89719</th>\n",
       "      <td>1606506531</td>\n",
       "      <td>29</td>\n",
       "      <td>0</td>\n",
       "      <td>4135.128418</td>\n",
       "      <td>4152.948730</td>\n",
       "      <td>4151.538574</td>\n",
       "      <td>4161.282227</td>\n",
       "      <td>4166.153809</td>\n",
       "      <td>4184.743652</td>\n",
       "      <td>4167.436035</td>\n",
       "      <td>4174.102539</td>\n",
       "      <td>4142.563965</td>\n",
       "      <td>4141.922852</td>\n",
       "      <td>4104.358887</td>\n",
       "      <td>4108.077148</td>\n",
       "      <td>4062.948730</td>\n",
       "      <td>4083.076904</td>\n",
       "      <td>0.0</td>\n",
       "      <td>NaN</td>\n",
       "      <td>89720</td>\n",
       "      <td>3</td>\n",
       "    </tr>\n",
       "    <tr>\n",
       "      <th>89720</th>\n",
       "      <td>1606506531</td>\n",
       "      <td>30</td>\n",
       "      <td>0</td>\n",
       "      <td>4137.051270</td>\n",
       "      <td>4163.077148</td>\n",
       "      <td>4152.051270</td>\n",
       "      <td>4168.846191</td>\n",
       "      <td>4181.025879</td>\n",
       "      <td>4181.282227</td>\n",
       "      <td>4171.282227</td>\n",
       "      <td>4183.077148</td>\n",
       "      <td>4144.743652</td>\n",
       "      <td>4138.461426</td>\n",
       "      <td>4103.333496</td>\n",
       "      <td>4110.769043</td>\n",
       "      <td>4054.871826</td>\n",
       "      <td>4083.589844</td>\n",
       "      <td>0.0</td>\n",
       "      <td>NaN</td>\n",
       "      <td>89721</td>\n",
       "      <td>end</td>\n",
       "    </tr>\n",
       "  </tbody>\n",
       "</table>\n",
       "<p>89721 rows × 21 columns</p>\n",
       "</div>"
      ],
      "text/plain": [
       "        Timestamp  EEG.Counter  EEG.Interpolated  ...  MarkerValueInt  index  MARKERS\n",
       "0      1606505822           62                 0  ...             NaN      1      nan\n",
       "1      1606505822           63                 0  ...             NaN      2      nan\n",
       "2      1606505822           64                 0  ...             NaN      3      nan\n",
       "3      1606505822           65                 0  ...             NaN      4      nan\n",
       "4      1606505822           66                 0  ...             NaN      5      nan\n",
       "...           ...          ...               ...  ...             ...    ...      ...\n",
       "89716  1606506531           26                 0  ...             NaN  89717        3\n",
       "89717  1606506531           27                 0  ...             NaN  89718        3\n",
       "89718  1606506531           28                 0  ...             NaN  89719        3\n",
       "89719  1606506531           29                 0  ...             NaN  89720        3\n",
       "89720  1606506531           30                 0  ...             NaN  89721      end\n",
       "\n",
       "[89721 rows x 21 columns]"
      ]
     },
     "execution_count": 258,
     "metadata": {
      "tags": []
     },
     "output_type": "execute_result"
    }
   ],
   "source": [
    "frec1"
   ]
  },
  {
   "cell_type": "code",
   "execution_count": 259,
   "metadata": {
    "id": "OClLpbuqTnMh"
   },
   "outputs": [],
   "source": [
    "frec1.to_csv('Nuevo.csv')"
   ]
  },
  {
   "cell_type": "code",
   "execution_count": null,
   "metadata": {
    "id": "pX_VwpRFUF2h"
   },
   "outputs": [],
   "source": []
  }
 ],
 "metadata": {
  "colab": {
   "name": "Untitled1.ipynb",
   "provenance": []
  },
  "kernelspec": {
   "display_name": "Python 3",
   "language": "python",
   "name": "python3"
  },
  "language_info": {
   "codemirror_mode": {
    "name": "ipython",
    "version": 3
   },
   "file_extension": ".py",
   "mimetype": "text/x-python",
   "name": "python",
   "nbconvert_exporter": "python",
   "pygments_lexer": "ipython3",
   "version": "3.9.1"
  }
 },
 "nbformat": 4,
 "nbformat_minor": 4
}

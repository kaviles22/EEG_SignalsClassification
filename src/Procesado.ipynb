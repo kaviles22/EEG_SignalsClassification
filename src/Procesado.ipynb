{
 "cells": [
  {
   "cell_type": "markdown",
   "metadata": {},
   "source": [
    "# Librerias"
   ]
  },
  {
   "cell_type": "code",
   "execution_count": 16,
   "metadata": {},
   "outputs": [],
   "source": [
    "import pandas as pd\n",
    "import numpy as np \n",
    "import matplotlib.pyplot as plt \n",
    "from scipy import signal\n",
    "import os\n",
    "%matplotlib widget"
   ]
  },
  {
   "cell_type": "markdown",
   "metadata": {},
   "source": [
    "# Declaracion de constantes "
   ]
  },
  {
   "cell_type": "code",
   "execution_count": 17,
   "metadata": {},
   "outputs": [],
   "source": [
    "F_MIN = 5\n",
    "F_MAX = 40\n",
    "F_MUESTREO = 128\n",
    "RUTA_DATOS_PROCESADOS = '../DatosProcesados/Frecuencia'\n",
    "CARPETAS = ['Rojo', 'Azul', 'Verde', 'Morado', 'Baseline']"
   ]
  },
  {
   "cell_type": "markdown",
   "metadata": {},
   "source": [
    "# Declaracion de Funciones "
   ]
  },
  {
   "cell_type": "code",
   "execution_count": 50,
   "metadata": {},
   "outputs": [],
   "source": [
    "def plot_datos(datos):\n",
    "    \n",
    "    plt.figure()\n",
    "    plt.plot(datos[:, 0], label = 'EEG.O1')\n",
    "    plt.plot(datos[:, 1], label = 'EEG.O2')\n",
    "    plt.legend()\n",
    "    plt.title('Raw Data')\n",
    "    plt.xlabel('Tiempo')\n",
    "    plt.ylabel('uV')\n",
    "    \n",
    "def plot_psd_semilog(datos):\n",
    "    \n",
    "    f1, psd_O1 = signal.periodogram(datos[:, 0], F_MUESTREO)\n",
    "    f2, psd_O2 = signal.periodogram(datos[:, 1], F_MUESTREO)\n",
    "    plt.semilogy(f1, psd_O1, label = 'EEG.O1')\n",
    "    plt.semilogy(f1, psd_O2, label = 'EEG.O2')\n",
    "    plt.ylim([1e-7, 1e2])\n",
    "    plt.xlabel('Frecuencia [Hz]')\n",
    "    plt.ylabel('PSD [V**2/Hz]')\n",
    "    plt.legend()\n",
    "\n",
    "    \n",
    "def plot_psd(datos):\n",
    "    \n",
    "    plt.figure()\n",
    "    f1, psd_O1 = signal.periodogram(datos[:, 0], F_MUESTREO)\n",
    "    f2, psd_O2 = signal.periodogram(datos[:, 1], F_MUESTREO)\n",
    "    plt.plot(f1, psd_O1, label = 'EEG.O1')\n",
    "    plt.plot(f1, psd_O2, label = 'EEG.O2')\n",
    "    plt.xlabel('Frecuencia [Hz]')\n",
    "    plt.ylabel('PSD')\n",
    "    plt.legend()\n",
    "    print(psd_O1.mean())\n",
    "    print(psd_O2.mean())\n",
    "    print(max(psd_O1))\n",
    "    print(max(psd_O2))\n",
    "\n",
    "def filtro_pasa_banda(datos, f_min, f_max, f_muestreo, orden=5):\n",
    "    nyq = 0.5 * f_muestreo\n",
    "    f_min = f_min / nyq\n",
    "    f_max = f_max / nyq\n",
    "    b, a = signal.butter(orden, [f_min, f_max], btype='band')\n",
    "    print(b, a)\n",
    "    y = signal.lfilter(b, a, datos)\n",
    "    return y\n",
    "\n"
   ]
  },
  {
   "cell_type": "markdown",
   "metadata": {},
   "source": [
    "## Graficas de Datos (Sin filtro)"
   ]
  },
  {
   "cell_type": "code",
   "execution_count": 60,
   "metadata": {},
   "outputs": [
    {
     "name": "stdout",
     "output_type": "stream",
     "text": [
      "muestra11.csv\n"
     ]
    }
   ],
   "source": [
    "from scipy import fftpack \n",
    "\n",
    "for carpeta in CARPETAS:\n",
    "    archivos = [e for e in os.listdir(RUTA_DATOS_PROCESADOS+'/'+carpeta) if e.endswith('.csv') ]\n",
    "    \n",
    "    for indice, archivo in enumerate(archivos):\n",
    "        ruta_origen = f'{RUTA_DATOS_PROCESADOS}/{carpeta}/{archivo}'\n",
    "        print(archivo)\n",
    "        df = pd.read_csv(ruta_origen)\n",
    "        etiqueta = df[['MarkerValueInt']]\n",
    "        datos = df[['EEG.O1', 'EEG.O2']].to_numpy()\n",
    "        o1 = fftpack.hilbert(datos[:, 0])\n",
    "        o1 = pd.DataFrame(data=o1, columns=[\"EEG.O1\"])\n",
    "        o2 = fftpack.hilbert(datos[:, 0])\n",
    "        o2 = pd.DataFrame(data=o2, columns=[\"EEG.O2\"])\n",
    "        archivo = pd.concat([o1, o2, etiqueta], axis=1).to_csv(f'{RUTA_DATOS_PROCESADOS}/{carpeta}/hilbert{indice}.csv', index = False)"
   ]
  },
  {
   "cell_type": "code",
   "execution_count": null,
   "metadata": {},
   "outputs": [],
   "source": []
  }
 ],
 "metadata": {
  "kernelspec": {
   "display_name": "Python 3",
   "language": "python",
   "name": "python3"
  },
  "language_info": {
   "codemirror_mode": {
    "name": "ipython",
    "version": 3
   },
   "file_extension": ".py",
   "mimetype": "text/x-python",
   "name": "python",
   "nbconvert_exporter": "python",
   "pygments_lexer": "ipython3",
   "version": "3.9.1"
  }
 },
 "nbformat": 4,
 "nbformat_minor": 4
}
